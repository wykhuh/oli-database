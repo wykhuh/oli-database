{
 "cells": [
  {
   "cell_type": "code",
   "execution_count": 2,
   "id": "5fb7bb32",
   "metadata": {
    "vscode": {
     "languageId": "plaintext"
    }
   },
   "outputs": [],
   "source": [
    "import pandas as pd"
   ]
  },
  {
   "cell_type": "code",
   "execution_count": 5,
   "id": "330fa61d-a52f-42f1-bf34-a7d82d0f2303",
   "metadata": {},
   "outputs": [],
   "source": [
    "def log_df(df, limit=5):\n",
    "    print(df.shape)\n",
    "    return df.head(limit)"
   ]
  },
  {
   "cell_type": "markdown",
   "id": "8d04d438",
   "metadata": {},
   "source": [
    "## fix title on 'Oli.csv so it uses the full video title"
   ]
  },
  {
   "cell_type": "code",
   "execution_count": 65,
   "id": "1113e103-6f18-41fe-8bdb-38ce5a651098",
   "metadata": {},
   "outputs": [
    {
     "name": "stdout",
     "output_type": "stream",
     "text": [
      "(350, 3)\n"
     ]
    },
    {
     "data": {
      "text/html": [
       "<div>\n",
       "<style scoped>\n",
       "    .dataframe tbody tr th:only-of-type {\n",
       "        vertical-align: middle;\n",
       "    }\n",
       "\n",
       "    .dataframe tbody tr th {\n",
       "        vertical-align: top;\n",
       "    }\n",
       "\n",
       "    .dataframe thead th {\n",
       "        text-align: right;\n",
       "    }\n",
       "</style>\n",
       "<table border=\"1\" class=\"dataframe\">\n",
       "  <thead>\n",
       "    <tr style=\"text-align: right;\">\n",
       "      <th></th>\n",
       "      <th>id</th>\n",
       "      <th>my id</th>\n",
       "      <th>name</th>\n",
       "    </tr>\n",
       "  </thead>\n",
       "  <tbody>\n",
       "    <tr>\n",
       "      <th>0</th>\n",
       "      <td>1.0</td>\n",
       "      <td>1</td>\n",
       "      <td>L1 MGBG Mango Baritone</td>\n",
       "    </tr>\n",
       "    <tr>\n",
       "      <th>1</th>\n",
       "      <td>3.0</td>\n",
       "      <td>2</td>\n",
       "      <td>L2 TCE Cedar Macassar Ebony Tenor</td>\n",
       "    </tr>\n",
       "    <tr>\n",
       "      <th>2</th>\n",
       "      <td>4.0</td>\n",
       "      <td>3</td>\n",
       "      <td>Cedar Macassar L2 Baritone</td>\n",
       "    </tr>\n",
       "    <tr>\n",
       "      <th>3</th>\n",
       "      <td>5.0</td>\n",
       "      <td>4</td>\n",
       "      <td>Spruce Rosewood L2 Baritone</td>\n",
       "    </tr>\n",
       "    <tr>\n",
       "      <th>4</th>\n",
       "      <td>6.0</td>\n",
       "      <td>5</td>\n",
       "      <td>L1 Mango Baritone Satin</td>\n",
       "    </tr>\n",
       "  </tbody>\n",
       "</table>\n",
       "</div>"
      ],
      "text/plain": [
       "    id  my id                               name\n",
       "0  1.0      1             L1 MGBG Mango Baritone\n",
       "1  3.0      2  L2 TCE Cedar Macassar Ebony Tenor\n",
       "2  4.0      3         Cedar Macassar L2 Baritone\n",
       "3  5.0      4        Spruce Rosewood L2 Baritone\n",
       "4  6.0      5            L1 Mango Baritone Satin"
      ]
     },
     "execution_count": 65,
     "metadata": {},
     "output_type": "execute_result"
    }
   ],
   "source": [
    "my_oli_df = pd.read_csv('../raw_data/Oli.csv', usecols=['id', 'my id', 'name'])\n",
    "log_df(my_oli_df)"
   ]
  },
  {
   "cell_type": "code",
   "execution_count": 74,
   "id": "9132f1f4-29de-401a-89f4-195c68c8683d",
   "metadata": {},
   "outputs": [
    {
     "name": "stdout",
     "output_type": "stream",
     "text": [
      "(347, 3)\n"
     ]
    },
    {
     "data": {
      "text/html": [
       "<div>\n",
       "<style scoped>\n",
       "    .dataframe tbody tr th:only-of-type {\n",
       "        vertical-align: middle;\n",
       "    }\n",
       "\n",
       "    .dataframe tbody tr th {\n",
       "        vertical-align: top;\n",
       "    }\n",
       "\n",
       "    .dataframe thead th {\n",
       "        text-align: right;\n",
       "    }\n",
       "</style>\n",
       "<table border=\"1\" class=\"dataframe\">\n",
       "  <thead>\n",
       "    <tr style=\"text-align: right;\">\n",
       "      <th></th>\n",
       "      <th>position</th>\n",
       "      <th>video_title</th>\n",
       "      <th>video_id</th>\n",
       "    </tr>\n",
       "  </thead>\n",
       "  <tbody>\n",
       "    <tr>\n",
       "      <th>0</th>\n",
       "      <td>1</td>\n",
       "      <td>'Oli L1 MGBG Mango Baritone</td>\n",
       "      <td>uBJy6pgpNIU</td>\n",
       "    </tr>\n",
       "    <tr>\n",
       "      <th>1</th>\n",
       "      <td>2</td>\n",
       "      <td>O.C. Bear Custom Lahaina Guitar &amp; ‘Oli Cedar E...</td>\n",
       "      <td>aFgun3_F1fQ</td>\n",
       "    </tr>\n",
       "    <tr>\n",
       "      <th>2</th>\n",
       "      <td>3</td>\n",
       "      <td>'Oli L2 TCE Cedar Macassar Ebony Tenor</td>\n",
       "      <td>mSw_GV9LxOM</td>\n",
       "    </tr>\n",
       "    <tr>\n",
       "      <th>3</th>\n",
       "      <td>4</td>\n",
       "      <td>'Oli Cedar Macassar L2 Baritone</td>\n",
       "      <td>uDCKmlLujrs</td>\n",
       "    </tr>\n",
       "    <tr>\n",
       "      <th>4</th>\n",
       "      <td>5</td>\n",
       "      <td>'Oli Spruce Rosewood L2 Baritone</td>\n",
       "      <td>TkO2YRW2vQE</td>\n",
       "    </tr>\n",
       "  </tbody>\n",
       "</table>\n",
       "</div>"
      ],
      "text/plain": [
       "   position                                        video_title     video_id\n",
       "0         1                        'Oli L1 MGBG Mango Baritone  uBJy6pgpNIU\n",
       "1         2  O.C. Bear Custom Lahaina Guitar & ‘Oli Cedar E...  aFgun3_F1fQ\n",
       "2         3             'Oli L2 TCE Cedar Macassar Ebony Tenor  mSw_GV9LxOM\n",
       "3         4                    'Oli Cedar Macassar L2 Baritone  uDCKmlLujrs\n",
       "4         5                   'Oli Spruce Rosewood L2 Baritone  TkO2YRW2vQE"
      ]
     },
     "execution_count": 74,
     "metadata": {},
     "output_type": "execute_result"
    }
   ],
   "source": [
    "oli_yt_df = pd.read_csv('../raw_data/oli_playlist.csv', usecols=['position', 'video_title', 'video_id'])\n",
    "log_df(oli_yt_df)"
   ]
  },
  {
   "cell_type": "code",
   "execution_count": 75,
   "id": "4c73483c-6350-4574-bc13-28f38f63c232",
   "metadata": {},
   "outputs": [
    {
     "data": {
      "text/html": [
       "<div>\n",
       "<style scoped>\n",
       "    .dataframe tbody tr th:only-of-type {\n",
       "        vertical-align: middle;\n",
       "    }\n",
       "\n",
       "    .dataframe tbody tr th {\n",
       "        vertical-align: top;\n",
       "    }\n",
       "\n",
       "    .dataframe thead th {\n",
       "        text-align: right;\n",
       "    }\n",
       "</style>\n",
       "<table border=\"1\" class=\"dataframe\">\n",
       "  <thead>\n",
       "    <tr style=\"text-align: right;\">\n",
       "      <th></th>\n",
       "      <th>position</th>\n",
       "      <th>video_title</th>\n",
       "      <th>video_id</th>\n",
       "      <th>temp_title</th>\n",
       "    </tr>\n",
       "  </thead>\n",
       "  <tbody>\n",
       "    <tr>\n",
       "      <th>0</th>\n",
       "      <td>1</td>\n",
       "      <td>'Oli L1 MGBG Mango Baritone</td>\n",
       "      <td>uBJy6pgpNIU</td>\n",
       "      <td>L1 MGBG Mango Baritone</td>\n",
       "    </tr>\n",
       "    <tr>\n",
       "      <th>1</th>\n",
       "      <td>2</td>\n",
       "      <td>O.C. Bear Custom Lahaina Guitar &amp; ‘Oli Cedar E...</td>\n",
       "      <td>aFgun3_F1fQ</td>\n",
       "      <td>O.C. Bear Custom Lahaina Guitar &amp; ‘Oli Cedar E...</td>\n",
       "    </tr>\n",
       "    <tr>\n",
       "      <th>2</th>\n",
       "      <td>3</td>\n",
       "      <td>'Oli L2 TCE Cedar Macassar Ebony Tenor</td>\n",
       "      <td>mSw_GV9LxOM</td>\n",
       "      <td>L2 TCE Cedar Macassar Ebony Tenor</td>\n",
       "    </tr>\n",
       "    <tr>\n",
       "      <th>3</th>\n",
       "      <td>4</td>\n",
       "      <td>'Oli Cedar Macassar L2 Baritone</td>\n",
       "      <td>uDCKmlLujrs</td>\n",
       "      <td>Cedar Macassar L2 Baritone</td>\n",
       "    </tr>\n",
       "    <tr>\n",
       "      <th>4</th>\n",
       "      <td>5</td>\n",
       "      <td>'Oli Spruce Rosewood L2 Baritone</td>\n",
       "      <td>TkO2YRW2vQE</td>\n",
       "      <td>Spruce Rosewood L2 Baritone</td>\n",
       "    </tr>\n",
       "  </tbody>\n",
       "</table>\n",
       "</div>"
      ],
      "text/plain": [
       "   position                                        video_title     video_id  \\\n",
       "0         1                        'Oli L1 MGBG Mango Baritone  uBJy6pgpNIU   \n",
       "1         2  O.C. Bear Custom Lahaina Guitar & ‘Oli Cedar E...  aFgun3_F1fQ   \n",
       "2         3             'Oli L2 TCE Cedar Macassar Ebony Tenor  mSw_GV9LxOM   \n",
       "3         4                    'Oli Cedar Macassar L2 Baritone  uDCKmlLujrs   \n",
       "4         5                   'Oli Spruce Rosewood L2 Baritone  TkO2YRW2vQE   \n",
       "\n",
       "                                          temp_title  \n",
       "0                             L1 MGBG Mango Baritone  \n",
       "1  O.C. Bear Custom Lahaina Guitar & ‘Oli Cedar E...  \n",
       "2                  L2 TCE Cedar Macassar Ebony Tenor  \n",
       "3                         Cedar Macassar L2 Baritone  \n",
       "4                        Spruce Rosewood L2 Baritone  "
      ]
     },
     "execution_count": 75,
     "metadata": {},
     "output_type": "execute_result"
    }
   ],
   "source": [
    "oli_yt_df['temp_title'] = oli_yt_df['video_title'].replace({\"^'Oli \": \"\"}, regex=True)\n",
    "\n",
    "oli_yt_df.head()"
   ]
  },
  {
   "cell_type": "code",
   "execution_count": 79,
   "id": "52c87a62-29f3-4ce6-b5d4-486369fb08e5",
   "metadata": {},
   "outputs": [
    {
     "data": {
      "text/html": [
       "<div>\n",
       "<style scoped>\n",
       "    .dataframe tbody tr th:only-of-type {\n",
       "        vertical-align: middle;\n",
       "    }\n",
       "\n",
       "    .dataframe tbody tr th {\n",
       "        vertical-align: top;\n",
       "    }\n",
       "\n",
       "    .dataframe thead th {\n",
       "        text-align: right;\n",
       "    }\n",
       "</style>\n",
       "<table border=\"1\" class=\"dataframe\">\n",
       "  <thead>\n",
       "    <tr style=\"text-align: right;\">\n",
       "      <th></th>\n",
       "      <th>id</th>\n",
       "      <th>my id</th>\n",
       "      <th>name</th>\n",
       "      <th>position</th>\n",
       "      <th>video_title</th>\n",
       "      <th>video_id</th>\n",
       "      <th>temp_title</th>\n",
       "    </tr>\n",
       "  </thead>\n",
       "  <tbody>\n",
       "    <tr>\n",
       "      <th>0</th>\n",
       "      <td>NaN</td>\n",
       "      <td>NaN</td>\n",
       "      <td>NaN</td>\n",
       "      <td>140.0</td>\n",
       "      <td>'Oli  L2-BCW Cedar Walnut Baritone</td>\n",
       "      <td>HXjNOfoqUzE</td>\n",
       "      <td>L2-BCW Cedar Walnut Baritone</td>\n",
       "    </tr>\n",
       "    <tr>\n",
       "      <th>1</th>\n",
       "      <td>NaN</td>\n",
       "      <td>NaN</td>\n",
       "      <td>NaN</td>\n",
       "      <td>125.0</td>\n",
       "      <td>\"All of Me\" 'Oli Cedar Ebony Baritone &amp; Singer...</td>\n",
       "      <td>6Ao64QPpWEs</td>\n",
       "      <td>\"All of Me\" 'Oli Cedar Ebony Baritone &amp; Singer...</td>\n",
       "    </tr>\n",
       "    <tr>\n",
       "      <th>2</th>\n",
       "      <td>NaN</td>\n",
       "      <td>NaN</td>\n",
       "      <td>NaN</td>\n",
       "      <td>50.0</td>\n",
       "      <td>\"Don't Know Why\" 'Oli Koa tenor &amp; Cedar Rosewo...</td>\n",
       "      <td>_wtkoF2esE0</td>\n",
       "      <td>\"Don't Know Why\" 'Oli Koa tenor &amp; Cedar Rosewo...</td>\n",
       "    </tr>\n",
       "    <tr>\n",
       "      <th>3</th>\n",
       "      <td>NaN</td>\n",
       "      <td>NaN</td>\n",
       "      <td>NaN</td>\n",
       "      <td>243.0</td>\n",
       "      <td>\"In My Life\" 'Oli L3-TCE  L3-TSR  L2-GSR</td>\n",
       "      <td>r7zRtjvEwxM</td>\n",
       "      <td>\"In My Life\" 'Oli L3-TCE  L3-TSR  L2-GSR</td>\n",
       "    </tr>\n",
       "    <tr>\n",
       "      <th>4</th>\n",
       "      <td>NaN</td>\n",
       "      <td>NaN</td>\n",
       "      <td>NaN</td>\n",
       "      <td>271.0</td>\n",
       "      <td>\"Oli L2-TCPMR Port Orford Cedar Myrtle Tenor 1194</td>\n",
       "      <td>oiHEZKaN8ik</td>\n",
       "      <td>\"Oli L2-TCPMR Port Orford Cedar Myrtle Tenor 1194</td>\n",
       "    </tr>\n",
       "  </tbody>\n",
       "</table>\n",
       "</div>"
      ],
      "text/plain": [
       "   id  my id name  position  \\\n",
       "0 NaN    NaN  NaN     140.0   \n",
       "1 NaN    NaN  NaN     125.0   \n",
       "2 NaN    NaN  NaN      50.0   \n",
       "3 NaN    NaN  NaN     243.0   \n",
       "4 NaN    NaN  NaN     271.0   \n",
       "\n",
       "                                         video_title     video_id  \\\n",
       "0                 'Oli  L2-BCW Cedar Walnut Baritone  HXjNOfoqUzE   \n",
       "1  \"All of Me\" 'Oli Cedar Ebony Baritone & Singer...  6Ao64QPpWEs   \n",
       "2  \"Don't Know Why\" 'Oli Koa tenor & Cedar Rosewo...  _wtkoF2esE0   \n",
       "3           \"In My Life\" 'Oli L3-TCE  L3-TSR  L2-GSR  r7zRtjvEwxM   \n",
       "4  \"Oli L2-TCPMR Port Orford Cedar Myrtle Tenor 1194  oiHEZKaN8ik   \n",
       "\n",
       "                                          temp_title  \n",
       "0                       L2-BCW Cedar Walnut Baritone  \n",
       "1  \"All of Me\" 'Oli Cedar Ebony Baritone & Singer...  \n",
       "2  \"Don't Know Why\" 'Oli Koa tenor & Cedar Rosewo...  \n",
       "3           \"In My Life\" 'Oli L3-TCE  L3-TSR  L2-GSR  \n",
       "4  \"Oli L2-TCPMR Port Orford Cedar Myrtle Tenor 1194  "
      ]
     },
     "execution_count": 79,
     "metadata": {},
     "output_type": "execute_result"
    }
   ],
   "source": [
    "merge_df = my_oli_df.merge(oli_yt_df, how = 'outer', left_on='name', right_on='temp_title')\n",
    "merge_df.head()"
   ]
  },
  {
   "cell_type": "code",
   "execution_count": 80,
   "id": "67eff916-4dc9-4588-8106-af6e36c7a76a",
   "metadata": {},
   "outputs": [
    {
     "data": {
      "text/plain": [
       "(51, 7)"
      ]
     },
     "execution_count": 80,
     "metadata": {},
     "output_type": "execute_result"
    }
   ],
   "source": [
    "merge_df[merge_df['video_id'].isna()].shape"
   ]
  },
  {
   "cell_type": "code",
   "execution_count": 81,
   "id": "699d6d4a-588c-4535-83ab-d058f1cddcf2",
   "metadata": {},
   "outputs": [],
   "source": [
    "merge_df.to_csv('../processed_data/draft/oli_fix_title.csv', index=False)"
   ]
  },
  {
   "cell_type": "code",
   "execution_count": null,
   "id": "76992f5e-89b9-4772-a62c-99f88d6d63e2",
   "metadata": {},
   "outputs": [],
   "source": []
  }
 ],
 "metadata": {
  "kernelspec": {
   "display_name": "Python 3 (ipykernel)",
   "language": "python",
   "name": "python3"
  },
  "language_info": {
   "codemirror_mode": {
    "name": "ipython",
    "version": 3
   },
   "file_extension": ".py",
   "mimetype": "text/x-python",
   "name": "python",
   "nbconvert_exporter": "python",
   "pygments_lexer": "ipython3",
   "version": "3.12.9"
  }
 },
 "nbformat": 4,
 "nbformat_minor": 5
}
