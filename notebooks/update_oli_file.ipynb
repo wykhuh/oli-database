{
 "cells": [
  {
   "cell_type": "code",
   "execution_count": 1,
   "id": "5fb7bb32",
   "metadata": {},
   "outputs": [],
   "source": [
    "import pandas as pd\n",
    "import hashlib\n"
   ]
  },
  {
   "cell_type": "code",
   "execution_count": 2,
   "id": "330fa61d-a52f-42f1-bf34-a7d82d0f2303",
   "metadata": {},
   "outputs": [],
   "source": [
    "def log_df(df, limit=5):\n",
    "    print(df.shape)\n",
    "    return df.head(limit)\n",
    "\n",
    "# integer columns that have null\n",
    "int_dtype = {'playlist_position': 'Int64', 'price': 'Int64', 'serial_number':'Int64'}\n"
   ]
  },
  {
   "cell_type": "markdown",
   "id": "8d04d438",
   "metadata": {},
   "source": [
    "## fix title on 'Oli.csv so it uses the full video title"
   ]
  },
  {
   "cell_type": "code",
   "execution_count": null,
   "id": "1113e103-6f18-41fe-8bdb-38ce5a651098",
   "metadata": {},
   "outputs": [],
   "source": [
    "my_oli_df = pd.read_csv('../raw_data/Oli.csv', usecols=['id', 'my id', 'name'])\n",
    "log_df(my_oli_df)"
   ]
  },
  {
   "cell_type": "code",
   "execution_count": null,
   "id": "9132f1f4-29de-401a-89f4-195c68c8683d",
   "metadata": {},
   "outputs": [],
   "source": [
    "oli_yt_df = pd.read_csv('../raw_data/oli_playlist.csv', usecols=['position', 'video_title', 'video_id'])\n",
    "log_df(oli_yt_df)"
   ]
  },
  {
   "cell_type": "code",
   "execution_count": null,
   "id": "4c73483c-6350-4574-bc13-28f38f63c232",
   "metadata": {},
   "outputs": [],
   "source": [
    "oli_yt_df['temp_title'] = oli_yt_df['video_title'].replace({\"^'Oli \": \"\"}, regex=True)\n",
    "\n",
    "oli_yt_df.head()"
   ]
  },
  {
   "cell_type": "code",
   "execution_count": null,
   "id": "52c87a62-29f3-4ce6-b5d4-486369fb08e5",
   "metadata": {},
   "outputs": [],
   "source": [
    "merge_df = my_oli_df.merge(oli_yt_df, how = 'outer', left_on='name', right_on='temp_title')\n",
    "merge_df.head()"
   ]
  },
  {
   "cell_type": "code",
   "execution_count": null,
   "id": "67eff916-4dc9-4588-8106-af6e36c7a76a",
   "metadata": {},
   "outputs": [],
   "source": [
    "merge_df[merge_df['video_id'].isna()].shape"
   ]
  },
  {
   "cell_type": "code",
   "execution_count": null,
   "id": "699d6d4a-588c-4535-83ab-d058f1cddcf2",
   "metadata": {},
   "outputs": [],
   "source": [
    "merge_df.to_csv('../processed_data/draft/oli_fix_title.csv', index=False)"
   ]
  },
  {
   "cell_type": "markdown",
   "id": "76369ee7-2b79-438b-8dac-02c6c90c012e",
   "metadata": {},
   "source": [
    "## add unique id for each model\n",
    "\n",
    "Some Oli ukes use the same model number for different woods, e.g curly Redwood and redwood are labeled as r. I want each model + wood  to have  id"
   ]
  },
  {
   "cell_type": "code",
   "execution_count": null,
   "id": "1b8ed65e-c365-4595-9497-9d9ce796abb6",
   "metadata": {},
   "outputs": [],
   "source": [
    "\n",
    "my_oli_df = pd.read_csv('../raw_data/Oli.csv', dtype=int_dtype)\n",
    "log_df(my_oli_df)"
   ]
  },
  {
   "cell_type": "code",
   "execution_count": null,
   "id": "0a041bfb-985f-4df0-8dfa-cbe21d4ca655",
   "metadata": {},
   "outputs": [],
   "source": [
    "my_oli_df['oli_id'] = ''\n",
    "\n",
    "for i, row in my_oli_df.iterrows():\n",
    "    if(pd.isna(row['model'])):\n",
    "        continue\n",
    "\n",
    "    temp = row['model'] + row['top_wood'] + row['back_wood']\n",
    "    # if(not pd.isna(row['model_notes'])):\n",
    "    #     temp = temp + row['model_notes']\n",
    "    my_oli_df.loc[i, 'oli_id'] = hashlib.md5(temp.encode()).hexdigest()"
   ]
  },
  {
   "cell_type": "code",
   "execution_count": null,
   "id": "4b62a17d-4aac-43ea-9390-a765c9ec9341",
   "metadata": {},
   "outputs": [],
   "source": [
    "log_df(my_oli_df)"
   ]
  },
  {
   "cell_type": "code",
   "execution_count": null,
   "id": "a3a832ac-f0a2-4427-b87d-637f100c26e6",
   "metadata": {},
   "outputs": [],
   "source": [
    "len(my_oli_df['oli_id'].unique())\n",
    "# 163"
   ]
  },
  {
   "cell_type": "code",
   "execution_count": null,
   "id": "2e5f1af4-6983-4961-86fb-dc04c4262f1d",
   "metadata": {},
   "outputs": [],
   "source": [
    "my_oli_df.to_csv('../raw_data/Oli.csv', index=False)"
   ]
  },
  {
   "cell_type": "markdown",
   "id": "44e2a0bc",
   "metadata": {},
   "source": [
    "## add published_at to Oli csv"
   ]
  },
  {
   "cell_type": "code",
   "execution_count": null,
   "id": "520a2985",
   "metadata": {},
   "outputs": [],
   "source": [
    "my_oli_df = pd.read_csv('../raw_data/Oli.csv',dtype=int_dtype)\n",
    "log_df(my_oli_df)"
   ]
  },
  {
   "cell_type": "code",
   "execution_count": null,
   "id": "6963aa25",
   "metadata": {},
   "outputs": [],
   "source": [
    "cols = ['video_id', 'published_at']\n",
    "\n",
    "videos_df = pd.read_csv('../processed_data/videos_list.csv', usecols=cols)\n",
    "videos_df.columns = ['video_published_at', 'video_id']\n",
    "\n",
    "log_df(videos_df)"
   ]
  },
  {
   "cell_type": "code",
   "execution_count": null,
   "id": "687693ba",
   "metadata": {},
   "outputs": [],
   "source": [
    "new_oli_df = my_oli_df.merge(videos_df, how='left')\n",
    "log_df(new_oli_df)"
   ]
  },
  {
   "cell_type": "code",
   "execution_count": null,
   "id": "08653032",
   "metadata": {},
   "outputs": [],
   "source": [
    "new_oli_df.to_csv('../raw_data/Oli.csv', index=False)"
   ]
  },
  {
   "cell_type": "markdown",
   "id": "f4edc05f-194a-4443-a5bd-b06b378a5c76",
   "metadata": {},
   "source": [
    "## update video data 'Oli.csv "
   ]
  },
  {
   "cell_type": "code",
   "execution_count": 3,
   "id": "8889fc41",
   "metadata": {},
   "outputs": [
    {
     "name": "stdout",
     "output_type": "stream",
     "text": [
      "(448, 25)\n"
     ]
    },
    {
     "data": {
      "text/html": [
       "<div>\n",
       "<style scoped>\n",
       "    .dataframe tbody tr th:only-of-type {\n",
       "        vertical-align: middle;\n",
       "    }\n",
       "\n",
       "    .dataframe tbody tr th {\n",
       "        vertical-align: top;\n",
       "    }\n",
       "\n",
       "    .dataframe thead th {\n",
       "        text-align: right;\n",
       "    }\n",
       "</style>\n",
       "<table border=\"1\" class=\"dataframe\">\n",
       "  <thead>\n",
       "    <tr style=\"text-align: right;\">\n",
       "      <th></th>\n",
       "      <th>playlist_position</th>\n",
       "      <th>video_title</th>\n",
       "      <th>model</th>\n",
       "      <th>tier</th>\n",
       "      <th>type</th>\n",
       "      <th>size</th>\n",
       "      <th>top_wood</th>\n",
       "      <th>back_wood</th>\n",
       "      <th>finish</th>\n",
       "      <th>model_notes</th>\n",
       "      <th>...</th>\n",
       "      <th>listing_url</th>\n",
       "      <th>video_id</th>\n",
       "      <th>video_published_at</th>\n",
       "      <th>video_type</th>\n",
       "      <th>video_provider</th>\n",
       "      <th>playlist_id</th>\n",
       "      <th>oli_id</th>\n",
       "      <th>video_description</th>\n",
       "      <th>redirect_url</th>\n",
       "      <th>date</th>\n",
       "    </tr>\n",
       "  </thead>\n",
       "  <tbody>\n",
       "    <tr>\n",
       "      <th>0</th>\n",
       "      <td>1.0</td>\n",
       "      <td>'Oli Mango Tenor Prototype</td>\n",
       "      <td>L2-TMG</td>\n",
       "      <td>L2</td>\n",
       "      <td>TMG</td>\n",
       "      <td>Tenor</td>\n",
       "      <td>Mango</td>\n",
       "      <td>Mango</td>\n",
       "      <td>gloss</td>\n",
       "      <td>NaN</td>\n",
       "      <td>...</td>\n",
       "      <td>NaN</td>\n",
       "      <td>1__pjKICYcA</td>\n",
       "      <td>2023-08-21T22:57:21Z</td>\n",
       "      <td>other</td>\n",
       "      <td>youtube</td>\n",
       "      <td>PLEQbDXy0ShuW7JotVhROvR4TxhmO_0tLD</td>\n",
       "      <td>f8e2f0955694a60036f37491c15bcca4</td>\n",
       "      <td>NaN</td>\n",
       "      <td>NaN</td>\n",
       "      <td>NaN</td>\n",
       "    </tr>\n",
       "    <tr>\n",
       "      <th>1</th>\n",
       "      <td>2.0</td>\n",
       "      <td>\"Hawai'i '78\" 'Oli Mango Tenor &amp; Pono Master S...</td>\n",
       "      <td>NaN</td>\n",
       "      <td>NaN</td>\n",
       "      <td>NaN</td>\n",
       "      <td>NaN</td>\n",
       "      <td>NaN</td>\n",
       "      <td>NaN</td>\n",
       "      <td>NaN</td>\n",
       "      <td>NaN</td>\n",
       "      <td>...</td>\n",
       "      <td>NaN</td>\n",
       "      <td>mgGgRXIZY4Q</td>\n",
       "      <td>2023-08-21T23:00:36Z</td>\n",
       "      <td>song</td>\n",
       "      <td>youtube</td>\n",
       "      <td>PLEQbDXy0ShuW7JotVhROvR4TxhmO_0tLD</td>\n",
       "      <td>NaN</td>\n",
       "      <td>NaN</td>\n",
       "      <td>NaN</td>\n",
       "      <td>NaN</td>\n",
       "    </tr>\n",
       "    <tr>\n",
       "      <th>2</th>\n",
       "      <td>3.0</td>\n",
       "      <td>'Oli Mango Concert L2 MGC</td>\n",
       "      <td>L2-CMG</td>\n",
       "      <td>L2</td>\n",
       "      <td>CMG</td>\n",
       "      <td>Concert</td>\n",
       "      <td>Mango</td>\n",
       "      <td>Mango</td>\n",
       "      <td>gloss</td>\n",
       "      <td>NaN</td>\n",
       "      <td>...</td>\n",
       "      <td>NaN</td>\n",
       "      <td>Oj_48kO9R8w</td>\n",
       "      <td>2023-11-16T18:57:56Z</td>\n",
       "      <td>sound_sample</td>\n",
       "      <td>youtube</td>\n",
       "      <td>PLEQbDXy0ShuW7JotVhROvR4TxhmO_0tLD</td>\n",
       "      <td>b896dea775786969dd6a0305484d3e8b</td>\n",
       "      <td>NaN</td>\n",
       "      <td>NaN</td>\n",
       "      <td>NaN</td>\n",
       "    </tr>\n",
       "    <tr>\n",
       "      <th>3</th>\n",
       "      <td>4.0</td>\n",
       "      <td>'Oli Mango Baritone L2 MGB</td>\n",
       "      <td>L2-BMG</td>\n",
       "      <td>L2</td>\n",
       "      <td>BMG</td>\n",
       "      <td>Baritone</td>\n",
       "      <td>Mango</td>\n",
       "      <td>Mango</td>\n",
       "      <td>gloss</td>\n",
       "      <td>NaN</td>\n",
       "      <td>...</td>\n",
       "      <td>NaN</td>\n",
       "      <td>K1WS2LC0U2s</td>\n",
       "      <td>2023-11-16T19:12:58Z</td>\n",
       "      <td>sound_sample</td>\n",
       "      <td>youtube</td>\n",
       "      <td>PLEQbDXy0ShuW7JotVhROvR4TxhmO_0tLD</td>\n",
       "      <td>6c3bbc40618711d4c968ccc0b716d915</td>\n",
       "      <td>NaN</td>\n",
       "      <td>NaN</td>\n",
       "      <td>NaN</td>\n",
       "    </tr>\n",
       "    <tr>\n",
       "      <th>4</th>\n",
       "      <td>5.0</td>\n",
       "      <td>Danny's Song on 'Oli Mango Baritone &amp; Tenor</td>\n",
       "      <td>NaN</td>\n",
       "      <td>NaN</td>\n",
       "      <td>NaN</td>\n",
       "      <td>NaN</td>\n",
       "      <td>NaN</td>\n",
       "      <td>NaN</td>\n",
       "      <td>NaN</td>\n",
       "      <td>NaN</td>\n",
       "      <td>...</td>\n",
       "      <td>NaN</td>\n",
       "      <td>sMBVxO3s9KU</td>\n",
       "      <td>2023-11-16T19:28:57Z</td>\n",
       "      <td>song</td>\n",
       "      <td>youtube</td>\n",
       "      <td>PLEQbDXy0ShuW7JotVhROvR4TxhmO_0tLD</td>\n",
       "      <td>NaN</td>\n",
       "      <td>NaN</td>\n",
       "      <td>NaN</td>\n",
       "      <td>NaN</td>\n",
       "    </tr>\n",
       "  </tbody>\n",
       "</table>\n",
       "<p>5 rows × 25 columns</p>\n",
       "</div>"
      ],
      "text/plain": [
       "   playlist_position                                        video_title  \\\n",
       "0                1.0                         'Oli Mango Tenor Prototype   \n",
       "1                2.0  \"Hawai'i '78\" 'Oli Mango Tenor & Pono Master S...   \n",
       "2                3.0                          'Oli Mango Concert L2 MGC   \n",
       "3                4.0                         'Oli Mango Baritone L2 MGB   \n",
       "4                5.0        Danny's Song on 'Oli Mango Baritone & Tenor   \n",
       "\n",
       "    model tier type      size top_wood back_wood finish model_notes  ...  \\\n",
       "0  L2-TMG   L2  TMG     Tenor    Mango     Mango  gloss         NaN  ...   \n",
       "1     NaN  NaN  NaN       NaN      NaN       NaN    NaN         NaN  ...   \n",
       "2  L2-CMG   L2  CMG   Concert    Mango     Mango  gloss         NaN  ...   \n",
       "3  L2-BMG   L2  BMG  Baritone    Mango     Mango  gloss         NaN  ...   \n",
       "4     NaN  NaN  NaN       NaN      NaN       NaN    NaN         NaN  ...   \n",
       "\n",
       "  listing_url     video_id    video_published_at    video_type video_provider  \\\n",
       "0         NaN  1__pjKICYcA  2023-08-21T22:57:21Z         other        youtube   \n",
       "1         NaN  mgGgRXIZY4Q  2023-08-21T23:00:36Z          song        youtube   \n",
       "2         NaN  Oj_48kO9R8w  2023-11-16T18:57:56Z  sound_sample        youtube   \n",
       "3         NaN  K1WS2LC0U2s  2023-11-16T19:12:58Z  sound_sample        youtube   \n",
       "4         NaN  sMBVxO3s9KU  2023-11-16T19:28:57Z          song        youtube   \n",
       "\n",
       "                          playlist_id                            oli_id  \\\n",
       "0  PLEQbDXy0ShuW7JotVhROvR4TxhmO_0tLD  f8e2f0955694a60036f37491c15bcca4   \n",
       "1  PLEQbDXy0ShuW7JotVhROvR4TxhmO_0tLD                               NaN   \n",
       "2  PLEQbDXy0ShuW7JotVhROvR4TxhmO_0tLD  b896dea775786969dd6a0305484d3e8b   \n",
       "3  PLEQbDXy0ShuW7JotVhROvR4TxhmO_0tLD  6c3bbc40618711d4c968ccc0b716d915   \n",
       "4  PLEQbDXy0ShuW7JotVhROvR4TxhmO_0tLD                               NaN   \n",
       "\n",
       "  video_description redirect_url date  \n",
       "0               NaN          NaN  NaN  \n",
       "1               NaN          NaN  NaN  \n",
       "2               NaN          NaN  NaN  \n",
       "3               NaN          NaN  NaN  \n",
       "4               NaN          NaN  NaN  \n",
       "\n",
       "[5 rows x 25 columns]"
      ]
     },
     "execution_count": 3,
     "metadata": {},
     "output_type": "execute_result"
    }
   ],
   "source": [
    "my_oli_df = pd.read_csv('../raw_data/Oli.csv')\n",
    "log_df(my_oli_df)"
   ]
  },
  {
   "cell_type": "code",
   "execution_count": 4,
   "id": "25f79af8",
   "metadata": {},
   "outputs": [
    {
     "name": "stdout",
     "output_type": "stream",
     "text": [
      "(390, 5)\n"
     ]
    },
    {
     "data": {
      "text/html": [
       "<div>\n",
       "<style scoped>\n",
       "    .dataframe tbody tr th:only-of-type {\n",
       "        vertical-align: middle;\n",
       "    }\n",
       "\n",
       "    .dataframe tbody tr th {\n",
       "        vertical-align: top;\n",
       "    }\n",
       "\n",
       "    .dataframe thead th {\n",
       "        text-align: right;\n",
       "    }\n",
       "</style>\n",
       "<table border=\"1\" class=\"dataframe\">\n",
       "  <thead>\n",
       "    <tr style=\"text-align: right;\">\n",
       "      <th></th>\n",
       "      <th>position</th>\n",
       "      <th>video_title</th>\n",
       "      <th>published_at</th>\n",
       "      <th>video_id</th>\n",
       "      <th>playlist_id</th>\n",
       "    </tr>\n",
       "  </thead>\n",
       "  <tbody>\n",
       "    <tr>\n",
       "      <th>0</th>\n",
       "      <td>1</td>\n",
       "      <td>'Oli L1 MGBG Mango Baritone</td>\n",
       "      <td>2024-01-30T08:53:06Z</td>\n",
       "      <td>uBJy6pgpNIU</td>\n",
       "      <td>PLEQbDXy0ShuWQ4iKD4YVC1iOj3uKY1R-2</td>\n",
       "    </tr>\n",
       "    <tr>\n",
       "      <th>1</th>\n",
       "      <td>2</td>\n",
       "      <td>O.C. Bear Custom Lahaina Guitar &amp; ‘Oli Cedar E...</td>\n",
       "      <td>2024-02-01T06:44:56Z</td>\n",
       "      <td>aFgun3_F1fQ</td>\n",
       "      <td>PLEQbDXy0ShuWQ4iKD4YVC1iOj3uKY1R-2</td>\n",
       "    </tr>\n",
       "    <tr>\n",
       "      <th>2</th>\n",
       "      <td>3</td>\n",
       "      <td>'Oli L2 TCE Cedar Macassar Ebony Tenor</td>\n",
       "      <td>2024-02-01T06:46:48Z</td>\n",
       "      <td>mSw_GV9LxOM</td>\n",
       "      <td>PLEQbDXy0ShuWQ4iKD4YVC1iOj3uKY1R-2</td>\n",
       "    </tr>\n",
       "    <tr>\n",
       "      <th>3</th>\n",
       "      <td>4</td>\n",
       "      <td>'Oli Cedar Macassar L2 Baritone</td>\n",
       "      <td>2024-02-28T22:39:41Z</td>\n",
       "      <td>uDCKmlLujrs</td>\n",
       "      <td>PLEQbDXy0ShuWQ4iKD4YVC1iOj3uKY1R-2</td>\n",
       "    </tr>\n",
       "    <tr>\n",
       "      <th>4</th>\n",
       "      <td>5</td>\n",
       "      <td>'Oli Spruce Rosewood L2 Baritone</td>\n",
       "      <td>2024-02-28T22:44:55Z</td>\n",
       "      <td>TkO2YRW2vQE</td>\n",
       "      <td>PLEQbDXy0ShuWQ4iKD4YVC1iOj3uKY1R-2</td>\n",
       "    </tr>\n",
       "  </tbody>\n",
       "</table>\n",
       "</div>"
      ],
      "text/plain": [
       "   position                                        video_title  \\\n",
       "0         1                        'Oli L1 MGBG Mango Baritone   \n",
       "1         2  O.C. Bear Custom Lahaina Guitar & ‘Oli Cedar E...   \n",
       "2         3             'Oli L2 TCE Cedar Macassar Ebony Tenor   \n",
       "3         4                    'Oli Cedar Macassar L2 Baritone   \n",
       "4         5                   'Oli Spruce Rosewood L2 Baritone   \n",
       "\n",
       "           published_at     video_id                         playlist_id  \n",
       "0  2024-01-30T08:53:06Z  uBJy6pgpNIU  PLEQbDXy0ShuWQ4iKD4YVC1iOj3uKY1R-2  \n",
       "1  2024-02-01T06:44:56Z  aFgun3_F1fQ  PLEQbDXy0ShuWQ4iKD4YVC1iOj3uKY1R-2  \n",
       "2  2024-02-01T06:46:48Z  mSw_GV9LxOM  PLEQbDXy0ShuWQ4iKD4YVC1iOj3uKY1R-2  \n",
       "3  2024-02-28T22:39:41Z  uDCKmlLujrs  PLEQbDXy0ShuWQ4iKD4YVC1iOj3uKY1R-2  \n",
       "4  2024-02-28T22:44:55Z  TkO2YRW2vQE  PLEQbDXy0ShuWQ4iKD4YVC1iOj3uKY1R-2  "
      ]
     },
     "execution_count": 4,
     "metadata": {},
     "output_type": "execute_result"
    }
   ],
   "source": [
    "cols = ['position','video_title','video_id','playlist_id', 'published_at']\n",
    "\n",
    "videos_df = pd.read_csv('../processed_data/videos_list.csv', usecols=cols)\n",
    "\n",
    "log_df(videos_df)"
   ]
  },
  {
   "cell_type": "code",
   "execution_count": 5,
   "id": "6de26944",
   "metadata": {},
   "outputs": [
    {
     "name": "stdout",
     "output_type": "stream",
     "text": [
      "(0, 25)\n"
     ]
    },
    {
     "data": {
      "text/html": [
       "<div>\n",
       "<style scoped>\n",
       "    .dataframe tbody tr th:only-of-type {\n",
       "        vertical-align: middle;\n",
       "    }\n",
       "\n",
       "    .dataframe tbody tr th {\n",
       "        vertical-align: top;\n",
       "    }\n",
       "\n",
       "    .dataframe thead th {\n",
       "        text-align: right;\n",
       "    }\n",
       "</style>\n",
       "<table border=\"1\" class=\"dataframe\">\n",
       "  <thead>\n",
       "    <tr style=\"text-align: right;\">\n",
       "      <th></th>\n",
       "      <th>playlist_position</th>\n",
       "      <th>video_title</th>\n",
       "      <th>model</th>\n",
       "      <th>tier</th>\n",
       "      <th>type</th>\n",
       "      <th>size</th>\n",
       "      <th>top_wood</th>\n",
       "      <th>back_wood</th>\n",
       "      <th>finish</th>\n",
       "      <th>model_notes</th>\n",
       "      <th>...</th>\n",
       "      <th>listing_url</th>\n",
       "      <th>video_id</th>\n",
       "      <th>video_published_at</th>\n",
       "      <th>video_type</th>\n",
       "      <th>video_provider</th>\n",
       "      <th>playlist_id</th>\n",
       "      <th>oli_id</th>\n",
       "      <th>video_description</th>\n",
       "      <th>redirect_url</th>\n",
       "      <th>date</th>\n",
       "    </tr>\n",
       "  </thead>\n",
       "  <tbody>\n",
       "  </tbody>\n",
       "</table>\n",
       "<p>0 rows × 25 columns</p>\n",
       "</div>"
      ],
      "text/plain": [
       "Empty DataFrame\n",
       "Columns: [playlist_position, video_title, model, tier, type, size, top_wood, back_wood, finish, model_notes, notes, limited_edition, price, serial_number, listing_title, listing_url, video_id, video_published_at, video_type, video_provider, playlist_id, oli_id, video_description, redirect_url, date]\n",
       "Index: []\n",
       "\n",
       "[0 rows x 25 columns]"
      ]
     },
     "execution_count": 5,
     "metadata": {},
     "output_type": "execute_result"
    }
   ],
   "source": [
    "new_oli_df = my_oli_df[pd.isna(my_oli_df['video_title']) & pd.notna(my_oli_df['video_id']) ]\n",
    "log_df(new_oli_df)"
   ]
  },
  {
   "cell_type": "code",
   "execution_count": 6,
   "id": "b52b7a9b",
   "metadata": {},
   "outputs": [
    {
     "data": {
      "text/plain": [
       "array([], dtype=object)"
      ]
     },
     "execution_count": 6,
     "metadata": {},
     "output_type": "execute_result"
    }
   ],
   "source": [
    "ids = new_oli_df['video_id'].unique()\n",
    "ids"
   ]
  },
  {
   "cell_type": "code",
   "execution_count": 7,
   "id": "316b0dd0",
   "metadata": {},
   "outputs": [],
   "source": [
    "for i, row in videos_df.iterrows():\n",
    "    video_id = row['video_id']\n",
    "    if(video_id not in ids):\n",
    "        continue\n",
    "\n",
    "    new_oli_df.loc[new_oli_df['video_id'] == video_id, 'playlist_position'] = row['position']\n",
    "    new_oli_df.loc[new_oli_df['video_id'] == video_id, 'video_title'] = row['video_title']\n",
    "    new_oli_df.loc[new_oli_df['video_id'] == video_id, 'playlist_id'] = row['playlist_id']\n",
    "    new_oli_df.loc[new_oli_df['video_id'] == video_id, 'video_type'] = 'sound_sample'\n",
    "    new_oli_df.loc[new_oli_df['video_id'] == video_id, 'video_provider'] = 'youtube'\n"
   ]
  },
  {
   "cell_type": "code",
   "execution_count": 8,
   "id": "1257a2c5",
   "metadata": {},
   "outputs": [
    {
     "name": "stdout",
     "output_type": "stream",
     "text": [
      "(0, 25)\n"
     ]
    },
    {
     "data": {
      "text/html": [
       "<div>\n",
       "<style scoped>\n",
       "    .dataframe tbody tr th:only-of-type {\n",
       "        vertical-align: middle;\n",
       "    }\n",
       "\n",
       "    .dataframe tbody tr th {\n",
       "        vertical-align: top;\n",
       "    }\n",
       "\n",
       "    .dataframe thead th {\n",
       "        text-align: right;\n",
       "    }\n",
       "</style>\n",
       "<table border=\"1\" class=\"dataframe\">\n",
       "  <thead>\n",
       "    <tr style=\"text-align: right;\">\n",
       "      <th></th>\n",
       "      <th>playlist_position</th>\n",
       "      <th>video_title</th>\n",
       "      <th>model</th>\n",
       "      <th>tier</th>\n",
       "      <th>type</th>\n",
       "      <th>size</th>\n",
       "      <th>top_wood</th>\n",
       "      <th>back_wood</th>\n",
       "      <th>finish</th>\n",
       "      <th>model_notes</th>\n",
       "      <th>...</th>\n",
       "      <th>listing_url</th>\n",
       "      <th>video_id</th>\n",
       "      <th>video_published_at</th>\n",
       "      <th>video_type</th>\n",
       "      <th>video_provider</th>\n",
       "      <th>playlist_id</th>\n",
       "      <th>oli_id</th>\n",
       "      <th>video_description</th>\n",
       "      <th>redirect_url</th>\n",
       "      <th>date</th>\n",
       "    </tr>\n",
       "  </thead>\n",
       "  <tbody>\n",
       "  </tbody>\n",
       "</table>\n",
       "<p>0 rows × 25 columns</p>\n",
       "</div>"
      ],
      "text/plain": [
       "Empty DataFrame\n",
       "Columns: [playlist_position, video_title, model, tier, type, size, top_wood, back_wood, finish, model_notes, notes, limited_edition, price, serial_number, listing_title, listing_url, video_id, video_published_at, video_type, video_provider, playlist_id, oli_id, video_description, redirect_url, date]\n",
       "Index: []\n",
       "\n",
       "[0 rows x 25 columns]"
      ]
     },
     "execution_count": 8,
     "metadata": {},
     "output_type": "execute_result"
    }
   ],
   "source": [
    "# new_oli_df = new_oli_df.astype({\"playlist_position\": int})\n",
    "\n",
    "log_df(new_oli_df)"
   ]
  }
 ],
 "metadata": {
  "kernelspec": {
   "display_name": "venv",
   "language": "python",
   "name": "python3"
  },
  "language_info": {
   "codemirror_mode": {
    "name": "ipython",
    "version": 3
   },
   "file_extension": ".py",
   "mimetype": "text/x-python",
   "name": "python",
   "nbconvert_exporter": "python",
   "pygments_lexer": "ipython3",
   "version": "3.12.9"
  }
 },
 "nbformat": 4,
 "nbformat_minor": 5
}
