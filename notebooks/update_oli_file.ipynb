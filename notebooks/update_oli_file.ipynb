{
 "cells": [
  {
   "cell_type": "code",
   "execution_count": null,
   "id": "5fb7bb32",
   "metadata": {},
   "outputs": [],
   "source": [
    "import pandas as pd\n",
    "import hashlib\n"
   ]
  },
  {
   "cell_type": "code",
   "execution_count": 2,
   "id": "330fa61d-a52f-42f1-bf34-a7d82d0f2303",
   "metadata": {},
   "outputs": [],
   "source": [
    "def log_df(df, limit=5):\n",
    "    print(df.shape)\n",
    "    return df.head(limit)\n",
    "\n",
    "# integer columns that have null\n",
    "int_dtype = {'playlist_position': 'Int64', 'price': 'Int64', 'serial_number':'Int64'}\n"
   ]
  },
  {
   "cell_type": "markdown",
   "id": "8d04d438",
   "metadata": {},
   "source": [
    "## fix title on 'Oli.csv so it uses the full video title"
   ]
  },
  {
   "cell_type": "code",
   "execution_count": 3,
   "id": "1113e103-6f18-41fe-8bdb-38ce5a651098",
   "metadata": {},
   "outputs": [
    {
     "ename": "ValueError",
     "evalue": "Usecols do not match columns, columns expected but not found: ['my id', 'id', 'name']",
     "output_type": "error",
     "traceback": [
      "\u001b[31m---------------------------------------------------------------------------\u001b[39m",
      "\u001b[31mValueError\u001b[39m                                Traceback (most recent call last)",
      "\u001b[36mCell\u001b[39m\u001b[36m \u001b[39m\u001b[32mIn[3]\u001b[39m\u001b[32m, line 1\u001b[39m\n\u001b[32m----> \u001b[39m\u001b[32m1\u001b[39m my_oli_df = \u001b[43mpd\u001b[49m\u001b[43m.\u001b[49m\u001b[43mread_csv\u001b[49m\u001b[43m(\u001b[49m\u001b[33;43m'\u001b[39;49m\u001b[33;43m../raw_data/Oli.csv\u001b[39;49m\u001b[33;43m'\u001b[39;49m\u001b[43m,\u001b[49m\u001b[43m \u001b[49m\u001b[43musecols\u001b[49m\u001b[43m=\u001b[49m\u001b[43m[\u001b[49m\u001b[33;43m'\u001b[39;49m\u001b[33;43mid\u001b[39;49m\u001b[33;43m'\u001b[39;49m\u001b[43m,\u001b[49m\u001b[43m \u001b[49m\u001b[33;43m'\u001b[39;49m\u001b[33;43mmy id\u001b[39;49m\u001b[33;43m'\u001b[39;49m\u001b[43m,\u001b[49m\u001b[43m \u001b[49m\u001b[33;43m'\u001b[39;49m\u001b[33;43mname\u001b[39;49m\u001b[33;43m'\u001b[39;49m\u001b[43m]\u001b[49m\u001b[43m)\u001b[49m\n\u001b[32m      2\u001b[39m log_df(my_oli_df)\n",
      "\u001b[36mFile \u001b[39m\u001b[32m~/Development/personal_projects/oli/venv/lib/python3.12/site-packages/pandas/io/parsers/readers.py:1026\u001b[39m, in \u001b[36mread_csv\u001b[39m\u001b[34m(filepath_or_buffer, sep, delimiter, header, names, index_col, usecols, dtype, engine, converters, true_values, false_values, skipinitialspace, skiprows, skipfooter, nrows, na_values, keep_default_na, na_filter, verbose, skip_blank_lines, parse_dates, infer_datetime_format, keep_date_col, date_parser, date_format, dayfirst, cache_dates, iterator, chunksize, compression, thousands, decimal, lineterminator, quotechar, quoting, doublequote, escapechar, comment, encoding, encoding_errors, dialect, on_bad_lines, delim_whitespace, low_memory, memory_map, float_precision, storage_options, dtype_backend)\u001b[39m\n\u001b[32m   1013\u001b[39m kwds_defaults = _refine_defaults_read(\n\u001b[32m   1014\u001b[39m     dialect,\n\u001b[32m   1015\u001b[39m     delimiter,\n\u001b[32m   (...)\u001b[39m\u001b[32m   1022\u001b[39m     dtype_backend=dtype_backend,\n\u001b[32m   1023\u001b[39m )\n\u001b[32m   1024\u001b[39m kwds.update(kwds_defaults)\n\u001b[32m-> \u001b[39m\u001b[32m1026\u001b[39m \u001b[38;5;28;01mreturn\u001b[39;00m \u001b[43m_read\u001b[49m\u001b[43m(\u001b[49m\u001b[43mfilepath_or_buffer\u001b[49m\u001b[43m,\u001b[49m\u001b[43m \u001b[49m\u001b[43mkwds\u001b[49m\u001b[43m)\u001b[49m\n",
      "\u001b[36mFile \u001b[39m\u001b[32m~/Development/personal_projects/oli/venv/lib/python3.12/site-packages/pandas/io/parsers/readers.py:620\u001b[39m, in \u001b[36m_read\u001b[39m\u001b[34m(filepath_or_buffer, kwds)\u001b[39m\n\u001b[32m    617\u001b[39m _validate_names(kwds.get(\u001b[33m\"\u001b[39m\u001b[33mnames\u001b[39m\u001b[33m\"\u001b[39m, \u001b[38;5;28;01mNone\u001b[39;00m))\n\u001b[32m    619\u001b[39m \u001b[38;5;66;03m# Create the parser.\u001b[39;00m\n\u001b[32m--> \u001b[39m\u001b[32m620\u001b[39m parser = \u001b[43mTextFileReader\u001b[49m\u001b[43m(\u001b[49m\u001b[43mfilepath_or_buffer\u001b[49m\u001b[43m,\u001b[49m\u001b[43m \u001b[49m\u001b[43m*\u001b[49m\u001b[43m*\u001b[49m\u001b[43mkwds\u001b[49m\u001b[43m)\u001b[49m\n\u001b[32m    622\u001b[39m \u001b[38;5;28;01mif\u001b[39;00m chunksize \u001b[38;5;129;01mor\u001b[39;00m iterator:\n\u001b[32m    623\u001b[39m     \u001b[38;5;28;01mreturn\u001b[39;00m parser\n",
      "\u001b[36mFile \u001b[39m\u001b[32m~/Development/personal_projects/oli/venv/lib/python3.12/site-packages/pandas/io/parsers/readers.py:1620\u001b[39m, in \u001b[36mTextFileReader.__init__\u001b[39m\u001b[34m(self, f, engine, **kwds)\u001b[39m\n\u001b[32m   1617\u001b[39m     \u001b[38;5;28mself\u001b[39m.options[\u001b[33m\"\u001b[39m\u001b[33mhas_index_names\u001b[39m\u001b[33m\"\u001b[39m] = kwds[\u001b[33m\"\u001b[39m\u001b[33mhas_index_names\u001b[39m\u001b[33m\"\u001b[39m]\n\u001b[32m   1619\u001b[39m \u001b[38;5;28mself\u001b[39m.handles: IOHandles | \u001b[38;5;28;01mNone\u001b[39;00m = \u001b[38;5;28;01mNone\u001b[39;00m\n\u001b[32m-> \u001b[39m\u001b[32m1620\u001b[39m \u001b[38;5;28mself\u001b[39m._engine = \u001b[38;5;28;43mself\u001b[39;49m\u001b[43m.\u001b[49m\u001b[43m_make_engine\u001b[49m\u001b[43m(\u001b[49m\u001b[43mf\u001b[49m\u001b[43m,\u001b[49m\u001b[43m \u001b[49m\u001b[38;5;28;43mself\u001b[39;49m\u001b[43m.\u001b[49m\u001b[43mengine\u001b[49m\u001b[43m)\u001b[49m\n",
      "\u001b[36mFile \u001b[39m\u001b[32m~/Development/personal_projects/oli/venv/lib/python3.12/site-packages/pandas/io/parsers/readers.py:1898\u001b[39m, in \u001b[36mTextFileReader._make_engine\u001b[39m\u001b[34m(self, f, engine)\u001b[39m\n\u001b[32m   1895\u001b[39m     \u001b[38;5;28;01mraise\u001b[39;00m \u001b[38;5;167;01mValueError\u001b[39;00m(msg)\n\u001b[32m   1897\u001b[39m \u001b[38;5;28;01mtry\u001b[39;00m:\n\u001b[32m-> \u001b[39m\u001b[32m1898\u001b[39m     \u001b[38;5;28;01mreturn\u001b[39;00m \u001b[43mmapping\u001b[49m\u001b[43m[\u001b[49m\u001b[43mengine\u001b[49m\u001b[43m]\u001b[49m\u001b[43m(\u001b[49m\u001b[43mf\u001b[49m\u001b[43m,\u001b[49m\u001b[43m \u001b[49m\u001b[43m*\u001b[49m\u001b[43m*\u001b[49m\u001b[38;5;28;43mself\u001b[39;49m\u001b[43m.\u001b[49m\u001b[43moptions\u001b[49m\u001b[43m)\u001b[49m\n\u001b[32m   1899\u001b[39m \u001b[38;5;28;01mexcept\u001b[39;00m \u001b[38;5;167;01mException\u001b[39;00m:\n\u001b[32m   1900\u001b[39m     \u001b[38;5;28;01mif\u001b[39;00m \u001b[38;5;28mself\u001b[39m.handles \u001b[38;5;129;01mis\u001b[39;00m \u001b[38;5;129;01mnot\u001b[39;00m \u001b[38;5;28;01mNone\u001b[39;00m:\n",
      "\u001b[36mFile \u001b[39m\u001b[32m~/Development/personal_projects/oli/venv/lib/python3.12/site-packages/pandas/io/parsers/c_parser_wrapper.py:140\u001b[39m, in \u001b[36mCParserWrapper.__init__\u001b[39m\u001b[34m(self, src, **kwds)\u001b[39m\n\u001b[32m    136\u001b[39m \u001b[38;5;28;01massert\u001b[39;00m \u001b[38;5;28mself\u001b[39m.orig_names \u001b[38;5;129;01mis\u001b[39;00m \u001b[38;5;129;01mnot\u001b[39;00m \u001b[38;5;28;01mNone\u001b[39;00m\n\u001b[32m    137\u001b[39m \u001b[38;5;28;01mif\u001b[39;00m \u001b[38;5;28mself\u001b[39m.usecols_dtype == \u001b[33m\"\u001b[39m\u001b[33mstring\u001b[39m\u001b[33m\"\u001b[39m \u001b[38;5;129;01mand\u001b[39;00m \u001b[38;5;129;01mnot\u001b[39;00m \u001b[38;5;28mset\u001b[39m(usecols).issubset(\n\u001b[32m    138\u001b[39m     \u001b[38;5;28mself\u001b[39m.orig_names\n\u001b[32m    139\u001b[39m ):\n\u001b[32m--> \u001b[39m\u001b[32m140\u001b[39m     \u001b[38;5;28;43mself\u001b[39;49m\u001b[43m.\u001b[49m\u001b[43m_validate_usecols_names\u001b[49m\u001b[43m(\u001b[49m\u001b[43musecols\u001b[49m\u001b[43m,\u001b[49m\u001b[43m \u001b[49m\u001b[38;5;28;43mself\u001b[39;49m\u001b[43m.\u001b[49m\u001b[43morig_names\u001b[49m\u001b[43m)\u001b[49m\n\u001b[32m    142\u001b[39m \u001b[38;5;66;03m# error: Cannot determine type of 'names'\u001b[39;00m\n\u001b[32m    143\u001b[39m \u001b[38;5;28;01mif\u001b[39;00m \u001b[38;5;28mlen\u001b[39m(\u001b[38;5;28mself\u001b[39m.names) > \u001b[38;5;28mlen\u001b[39m(usecols):  \u001b[38;5;66;03m# type: ignore[has-type]\u001b[39;00m\n\u001b[32m    144\u001b[39m     \u001b[38;5;66;03m# error: Cannot determine type of 'names'\u001b[39;00m\n",
      "\u001b[36mFile \u001b[39m\u001b[32m~/Development/personal_projects/oli/venv/lib/python3.12/site-packages/pandas/io/parsers/base_parser.py:979\u001b[39m, in \u001b[36mParserBase._validate_usecols_names\u001b[39m\u001b[34m(self, usecols, names)\u001b[39m\n\u001b[32m    977\u001b[39m missing = [c \u001b[38;5;28;01mfor\u001b[39;00m c \u001b[38;5;129;01min\u001b[39;00m usecols \u001b[38;5;28;01mif\u001b[39;00m c \u001b[38;5;129;01mnot\u001b[39;00m \u001b[38;5;129;01min\u001b[39;00m names]\n\u001b[32m    978\u001b[39m \u001b[38;5;28;01mif\u001b[39;00m \u001b[38;5;28mlen\u001b[39m(missing) > \u001b[32m0\u001b[39m:\n\u001b[32m--> \u001b[39m\u001b[32m979\u001b[39m     \u001b[38;5;28;01mraise\u001b[39;00m \u001b[38;5;167;01mValueError\u001b[39;00m(\n\u001b[32m    980\u001b[39m         \u001b[33mf\u001b[39m\u001b[33m\"\u001b[39m\u001b[33mUsecols do not match columns, columns expected but not found: \u001b[39m\u001b[33m\"\u001b[39m\n\u001b[32m    981\u001b[39m         \u001b[33mf\u001b[39m\u001b[33m\"\u001b[39m\u001b[38;5;132;01m{\u001b[39;00mmissing\u001b[38;5;132;01m}\u001b[39;00m\u001b[33m\"\u001b[39m\n\u001b[32m    982\u001b[39m     )\n\u001b[32m    984\u001b[39m \u001b[38;5;28;01mreturn\u001b[39;00m usecols\n",
      "\u001b[31mValueError\u001b[39m: Usecols do not match columns, columns expected but not found: ['my id', 'id', 'name']"
     ]
    }
   ],
   "source": [
    "my_oli_df = pd.read_csv('../raw_data/Oli.csv', usecols=['id', 'my id', 'name'])\n",
    "log_df(my_oli_df)"
   ]
  },
  {
   "cell_type": "code",
   "execution_count": null,
   "id": "9132f1f4-29de-401a-89f4-195c68c8683d",
   "metadata": {},
   "outputs": [],
   "source": [
    "oli_yt_df = pd.read_csv('../raw_data/oli_playlist.csv', usecols=['position', 'video_title', 'video_id'])\n",
    "log_df(oli_yt_df)"
   ]
  },
  {
   "cell_type": "code",
   "execution_count": null,
   "id": "4c73483c-6350-4574-bc13-28f38f63c232",
   "metadata": {},
   "outputs": [],
   "source": [
    "oli_yt_df['temp_title'] = oli_yt_df['video_title'].replace({\"^'Oli \": \"\"}, regex=True)\n",
    "\n",
    "oli_yt_df.head()"
   ]
  },
  {
   "cell_type": "code",
   "execution_count": null,
   "id": "52c87a62-29f3-4ce6-b5d4-486369fb08e5",
   "metadata": {},
   "outputs": [],
   "source": [
    "merge_df = my_oli_df.merge(oli_yt_df, how = 'outer', left_on='name', right_on='temp_title')\n",
    "merge_df.head()"
   ]
  },
  {
   "cell_type": "code",
   "execution_count": null,
   "id": "67eff916-4dc9-4588-8106-af6e36c7a76a",
   "metadata": {},
   "outputs": [],
   "source": [
    "merge_df[merge_df['video_id'].isna()].shape"
   ]
  },
  {
   "cell_type": "code",
   "execution_count": null,
   "id": "699d6d4a-588c-4535-83ab-d058f1cddcf2",
   "metadata": {},
   "outputs": [],
   "source": [
    "merge_df.to_csv('../processed_data/draft/oli_fix_title.csv', index=False)"
   ]
  },
  {
   "cell_type": "markdown",
   "id": "76369ee7-2b79-438b-8dac-02c6c90c012e",
   "metadata": {},
   "source": [
    "## add unique id for each model\n",
    "\n",
    "Some Oli ukes use the same model number for different woods, e.g curly Redwood and redwood are labeled as r. I want each model + wood  to have  id"
   ]
  },
  {
   "cell_type": "code",
   "execution_count": null,
   "id": "1b8ed65e-c365-4595-9497-9d9ce796abb6",
   "metadata": {},
   "outputs": [],
   "source": [
    "\n",
    "my_oli_df = pd.read_csv('../raw_data/Oli.csv', dtype=int_dtype)\n",
    "log_df(my_oli_df)"
   ]
  },
  {
   "cell_type": "code",
   "execution_count": null,
   "id": "0a041bfb-985f-4df0-8dfa-cbe21d4ca655",
   "metadata": {},
   "outputs": [],
   "source": [
    "my_oli_df['oli_id'] = ''\n",
    "\n",
    "for i, row in my_oli_df.iterrows():\n",
    "    if(pd.isna(row['model'])):\n",
    "        continue\n",
    "\n",
    "    temp = row['model'] + row['top_wood'] + row['back_wood']\n",
    "    # if(not pd.isna(row['model_notes'])):\n",
    "    #     temp = temp + row['model_notes']\n",
    "    my_oli_df.loc[i, 'oli_id'] = hashlib.md5(temp.encode()).hexdigest()"
   ]
  },
  {
   "cell_type": "code",
   "execution_count": null,
   "id": "4b62a17d-4aac-43ea-9390-a765c9ec9341",
   "metadata": {},
   "outputs": [],
   "source": [
    "log_df(my_oli_df)"
   ]
  },
  {
   "cell_type": "code",
   "execution_count": null,
   "id": "a3a832ac-f0a2-4427-b87d-637f100c26e6",
   "metadata": {},
   "outputs": [],
   "source": [
    "len(my_oli_df['oli_id'].unique())\n",
    "# 163"
   ]
  },
  {
   "cell_type": "code",
   "execution_count": null,
   "id": "2e5f1af4-6983-4961-86fb-dc04c4262f1d",
   "metadata": {},
   "outputs": [],
   "source": [
    "my_oli_df.to_csv('../raw_data/Oli.csv', index=False)"
   ]
  },
  {
   "cell_type": "markdown",
   "id": "f4edc05f-194a-4443-a5bd-b06b378a5c76",
   "metadata": {},
   "source": [
    "## update video data 'Oli.csv "
   ]
  },
  {
   "cell_type": "code",
   "execution_count": null,
   "id": "8889fc41",
   "metadata": {},
   "outputs": [],
   "source": [
    "my_oli_df = pd.read_csv('../raw_data/Oli.csv')\n",
    "log_df(my_oli_df)"
   ]
  },
  {
   "cell_type": "code",
   "execution_count": null,
   "id": "25f79af8",
   "metadata": {},
   "outputs": [],
   "source": [
    "cols = ['position','video_title','video_id','playlist_id']\n",
    "\n",
    "oli_yt_df = pd.read_csv('../raw_data/oli_playlist.csv', usecols=cols)\n",
    "log_df(oli_yt_df)"
   ]
  },
  {
   "cell_type": "code",
   "execution_count": null,
   "id": "6de26944",
   "metadata": {},
   "outputs": [],
   "source": [
    "new_oli_df = my_oli_df[pd.isna(my_oli_df['video_title']) &  pd.notna(my_oli_df['video_id']) ]\n",
    "log_df(new_oli_df)"
   ]
  },
  {
   "cell_type": "code",
   "execution_count": null,
   "id": "b52b7a9b",
   "metadata": {},
   "outputs": [],
   "source": [
    "ids = new_oli_df['video_id'].unique()\n",
    "ids"
   ]
  },
  {
   "cell_type": "code",
   "execution_count": null,
   "id": "316b0dd0",
   "metadata": {},
   "outputs": [],
   "source": [
    "for i, row in oli_yt_df.iterrows():\n",
    "    video_id = row['video_id']\n",
    "    if(video_id not in ids):\n",
    "        continue\n",
    "\n",
    "    new_oli_df.loc[new_oli_df['video_id'] == video_id, 'playlist_position'] = row['position']\n",
    "    new_oli_df.loc[new_oli_df['video_id'] == video_id, 'video_title'] = row['video_title']\n",
    "    new_oli_df.loc[new_oli_df['video_id'] == video_id, 'playlist_id'] = row['playlist_id']\n",
    "    new_oli_df.loc[new_oli_df['video_id'] == video_id, 'video_type'] = 'sound_sample'\n",
    "    new_oli_df.loc[new_oli_df['video_id'] == video_id, 'video_provider'] = 'youtube'\n"
   ]
  },
  {
   "cell_type": "code",
   "execution_count": null,
   "id": "1257a2c5",
   "metadata": {},
   "outputs": [],
   "source": [
    "new_oli_df = new_oli_df.astype({\"playlist_position\": int})\n",
    "\n",
    "new_oli_df"
   ]
  }
 ],
 "metadata": {
  "kernelspec": {
   "display_name": "venv",
   "language": "python",
   "name": "python3"
  },
  "language_info": {
   "codemirror_mode": {
    "name": "ipython",
    "version": 3
   },
   "file_extension": ".py",
   "mimetype": "text/x-python",
   "name": "python",
   "nbconvert_exporter": "python",
   "pygments_lexer": "ipython3",
   "version": "3.12.9"
  }
 },
 "nbformat": 4,
 "nbformat_minor": 5
}
