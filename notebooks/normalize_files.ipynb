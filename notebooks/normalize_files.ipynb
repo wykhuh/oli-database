{
 "cells": [
  {
   "cell_type": "markdown",
   "id": "5bd5cae4",
   "metadata": {},
   "source": [
    "# create csv for website"
   ]
  },
  {
   "cell_type": "code",
   "execution_count": 1,
   "id": "5054a14f-5768-4e4d-98d0-a84c2c1f9cba",
   "metadata": {},
   "outputs": [],
   "source": [
    "import pandas as pd"
   ]
  },
  {
   "cell_type": "code",
   "execution_count": 2,
   "id": "1066968e-2ee3-47e5-9e6d-eff88653bd52",
   "metadata": {},
   "outputs": [],
   "source": [
    "def log_df(df, limit=5):\n",
    "    print(df.shape)\n",
    "    return df.head(limit)\n",
    "\n",
    "# integer columns that have null\n",
    "int_dtype = {'playlist_position': 'Int64', 'price': 'Int64', 'serial_number':'Int64'}\n"
   ]
  },
  {
   "cell_type": "code",
   "execution_count": 3,
   "id": "47d1ba2b-03d7-43e6-b301-8bf91bb8b4c9",
   "metadata": {},
   "outputs": [],
   "source": [
    "playlist1_path = '../raw_data/oli_playlist.csv'\n",
    "playlist2_path = '../raw_data/oli_playlist_2.csv'\n",
    "missing_path = '../processed_data/missing_videos_fixed.csv'\n",
    "\n",
    "my_oli_path = '../raw_data/Oli.csv'\n"
   ]
  },
  {
   "cell_type": "markdown",
   "id": "4be49765-9363-4759-8bea-222376598392",
   "metadata": {},
   "source": [
    "## videos"
   ]
  },
  {
   "cell_type": "code",
   "execution_count": 4,
   "id": "2dc725de-0404-45b0-8ff7-9a3f5498d85e",
   "metadata": {},
   "outputs": [
    {
     "name": "stdout",
     "output_type": "stream",
     "text": [
      "(369, 6)\n"
     ]
    },
    {
     "data": {
      "text/html": [
       "<div>\n",
       "<style scoped>\n",
       "    .dataframe tbody tr th:only-of-type {\n",
       "        vertical-align: middle;\n",
       "    }\n",
       "\n",
       "    .dataframe tbody tr th {\n",
       "        vertical-align: top;\n",
       "    }\n",
       "\n",
       "    .dataframe thead th {\n",
       "        text-align: right;\n",
       "    }\n",
       "</style>\n",
       "<table border=\"1\" class=\"dataframe\">\n",
       "  <thead>\n",
       "    <tr style=\"text-align: right;\">\n",
       "      <th></th>\n",
       "      <th>position</th>\n",
       "      <th>video_title</th>\n",
       "      <th>published_at</th>\n",
       "      <th>video_id</th>\n",
       "      <th>video_thumbnail</th>\n",
       "      <th>playlist_id</th>\n",
       "    </tr>\n",
       "  </thead>\n",
       "  <tbody>\n",
       "    <tr>\n",
       "      <th>0</th>\n",
       "      <td>1</td>\n",
       "      <td>'Oli L1 MGBG Mango Baritone</td>\n",
       "      <td>2024-01-30T08:53:06Z</td>\n",
       "      <td>uBJy6pgpNIU</td>\n",
       "      <td>https://i.ytimg.com/vi/uBJy6pgpNIU/default.jpg</td>\n",
       "      <td>PLEQbDXy0ShuWQ4iKD4YVC1iOj3uKY1R-2</td>\n",
       "    </tr>\n",
       "    <tr>\n",
       "      <th>1</th>\n",
       "      <td>2</td>\n",
       "      <td>O.C. Bear Custom Lahaina Guitar &amp; ‘Oli Cedar E...</td>\n",
       "      <td>2024-02-01T06:44:56Z</td>\n",
       "      <td>aFgun3_F1fQ</td>\n",
       "      <td>https://i.ytimg.com/vi/aFgun3_F1fQ/default.jpg</td>\n",
       "      <td>PLEQbDXy0ShuWQ4iKD4YVC1iOj3uKY1R-2</td>\n",
       "    </tr>\n",
       "    <tr>\n",
       "      <th>2</th>\n",
       "      <td>3</td>\n",
       "      <td>'Oli L2 TCE Cedar Macassar Ebony Tenor</td>\n",
       "      <td>2024-02-01T06:46:48Z</td>\n",
       "      <td>mSw_GV9LxOM</td>\n",
       "      <td>https://i.ytimg.com/vi/mSw_GV9LxOM/default.jpg</td>\n",
       "      <td>PLEQbDXy0ShuWQ4iKD4YVC1iOj3uKY1R-2</td>\n",
       "    </tr>\n",
       "    <tr>\n",
       "      <th>3</th>\n",
       "      <td>4</td>\n",
       "      <td>'Oli Cedar Macassar L2 Baritone</td>\n",
       "      <td>2024-02-28T22:39:41Z</td>\n",
       "      <td>uDCKmlLujrs</td>\n",
       "      <td>https://i.ytimg.com/vi/uDCKmlLujrs/default.jpg</td>\n",
       "      <td>PLEQbDXy0ShuWQ4iKD4YVC1iOj3uKY1R-2</td>\n",
       "    </tr>\n",
       "    <tr>\n",
       "      <th>4</th>\n",
       "      <td>5</td>\n",
       "      <td>'Oli Spruce Rosewood L2 Baritone</td>\n",
       "      <td>2024-02-28T22:44:55Z</td>\n",
       "      <td>TkO2YRW2vQE</td>\n",
       "      <td>https://i.ytimg.com/vi/TkO2YRW2vQE/default.jpg</td>\n",
       "      <td>PLEQbDXy0ShuWQ4iKD4YVC1iOj3uKY1R-2</td>\n",
       "    </tr>\n",
       "  </tbody>\n",
       "</table>\n",
       "</div>"
      ],
      "text/plain": [
       "   position                                        video_title  \\\n",
       "0         1                        'Oli L1 MGBG Mango Baritone   \n",
       "1         2  O.C. Bear Custom Lahaina Guitar & ‘Oli Cedar E...   \n",
       "2         3             'Oli L2 TCE Cedar Macassar Ebony Tenor   \n",
       "3         4                    'Oli Cedar Macassar L2 Baritone   \n",
       "4         5                   'Oli Spruce Rosewood L2 Baritone   \n",
       "\n",
       "           published_at     video_id  \\\n",
       "0  2024-01-30T08:53:06Z  uBJy6pgpNIU   \n",
       "1  2024-02-01T06:44:56Z  aFgun3_F1fQ   \n",
       "2  2024-02-01T06:46:48Z  mSw_GV9LxOM   \n",
       "3  2024-02-28T22:39:41Z  uDCKmlLujrs   \n",
       "4  2024-02-28T22:44:55Z  TkO2YRW2vQE   \n",
       "\n",
       "                                  video_thumbnail  \\\n",
       "0  https://i.ytimg.com/vi/uBJy6pgpNIU/default.jpg   \n",
       "1  https://i.ytimg.com/vi/aFgun3_F1fQ/default.jpg   \n",
       "2  https://i.ytimg.com/vi/mSw_GV9LxOM/default.jpg   \n",
       "3  https://i.ytimg.com/vi/uDCKmlLujrs/default.jpg   \n",
       "4  https://i.ytimg.com/vi/TkO2YRW2vQE/default.jpg   \n",
       "\n",
       "                          playlist_id  \n",
       "0  PLEQbDXy0ShuWQ4iKD4YVC1iOj3uKY1R-2  \n",
       "1  PLEQbDXy0ShuWQ4iKD4YVC1iOj3uKY1R-2  \n",
       "2  PLEQbDXy0ShuWQ4iKD4YVC1iOj3uKY1R-2  \n",
       "3  PLEQbDXy0ShuWQ4iKD4YVC1iOj3uKY1R-2  \n",
       "4  PLEQbDXy0ShuWQ4iKD4YVC1iOj3uKY1R-2  "
      ]
     },
     "execution_count": 4,
     "metadata": {},
     "output_type": "execute_result"
    }
   ],
   "source": [
    "playlist1_df = pd.read_csv(playlist1_path)\n",
    "log_df(playlist1_df)"
   ]
  },
  {
   "cell_type": "code",
   "execution_count": 5,
   "id": "0e7abe45-38bc-46fc-bf0d-7504cc644197",
   "metadata": {},
   "outputs": [
    {
     "name": "stdout",
     "output_type": "stream",
     "text": [
      "(7, 6)\n"
     ]
    },
    {
     "data": {
      "text/html": [
       "<div>\n",
       "<style scoped>\n",
       "    .dataframe tbody tr th:only-of-type {\n",
       "        vertical-align: middle;\n",
       "    }\n",
       "\n",
       "    .dataframe tbody tr th {\n",
       "        vertical-align: top;\n",
       "    }\n",
       "\n",
       "    .dataframe thead th {\n",
       "        text-align: right;\n",
       "    }\n",
       "</style>\n",
       "<table border=\"1\" class=\"dataframe\">\n",
       "  <thead>\n",
       "    <tr style=\"text-align: right;\">\n",
       "      <th></th>\n",
       "      <th>position</th>\n",
       "      <th>video_title</th>\n",
       "      <th>published_at</th>\n",
       "      <th>video_id</th>\n",
       "      <th>video_thumbnail</th>\n",
       "      <th>playlist_id</th>\n",
       "    </tr>\n",
       "  </thead>\n",
       "  <tbody>\n",
       "    <tr>\n",
       "      <th>0</th>\n",
       "      <td>1</td>\n",
       "      <td>'Oli Mango Tenor Prototype</td>\n",
       "      <td>2023-08-21T22:57:21Z</td>\n",
       "      <td>1__pjKICYcA</td>\n",
       "      <td>https://i.ytimg.com/vi/1__pjKICYcA/default.jpg</td>\n",
       "      <td>PLEQbDXy0ShuW7JotVhROvR4TxhmO_0tLD</td>\n",
       "    </tr>\n",
       "    <tr>\n",
       "      <th>1</th>\n",
       "      <td>2</td>\n",
       "      <td>\"Hawai'i '78\" 'Oli Mango Tenor &amp; Pono Master S...</td>\n",
       "      <td>2023-08-21T23:00:36Z</td>\n",
       "      <td>mgGgRXIZY4Q</td>\n",
       "      <td>https://i.ytimg.com/vi/mgGgRXIZY4Q/default.jpg</td>\n",
       "      <td>PLEQbDXy0ShuW7JotVhROvR4TxhmO_0tLD</td>\n",
       "    </tr>\n",
       "    <tr>\n",
       "      <th>2</th>\n",
       "      <td>3</td>\n",
       "      <td>'Oli Mango Concert L2 MGC</td>\n",
       "      <td>2023-11-16T18:57:56Z</td>\n",
       "      <td>Oj_48kO9R8w</td>\n",
       "      <td>https://i.ytimg.com/vi/Oj_48kO9R8w/default.jpg</td>\n",
       "      <td>PLEQbDXy0ShuW7JotVhROvR4TxhmO_0tLD</td>\n",
       "    </tr>\n",
       "    <tr>\n",
       "      <th>3</th>\n",
       "      <td>4</td>\n",
       "      <td>'Oli Mango Baritone L2 MGB</td>\n",
       "      <td>2023-11-16T19:12:58Z</td>\n",
       "      <td>K1WS2LC0U2s</td>\n",
       "      <td>https://i.ytimg.com/vi/K1WS2LC0U2s/default.jpg</td>\n",
       "      <td>PLEQbDXy0ShuW7JotVhROvR4TxhmO_0tLD</td>\n",
       "    </tr>\n",
       "    <tr>\n",
       "      <th>4</th>\n",
       "      <td>5</td>\n",
       "      <td>Danny's Song on 'Oli Mango Baritone &amp; Tenor</td>\n",
       "      <td>2023-11-16T19:28:57Z</td>\n",
       "      <td>sMBVxO3s9KU</td>\n",
       "      <td>https://i.ytimg.com/vi/sMBVxO3s9KU/default.jpg</td>\n",
       "      <td>PLEQbDXy0ShuW7JotVhROvR4TxhmO_0tLD</td>\n",
       "    </tr>\n",
       "  </tbody>\n",
       "</table>\n",
       "</div>"
      ],
      "text/plain": [
       "   position                                        video_title  \\\n",
       "0         1                         'Oli Mango Tenor Prototype   \n",
       "1         2  \"Hawai'i '78\" 'Oli Mango Tenor & Pono Master S...   \n",
       "2         3                          'Oli Mango Concert L2 MGC   \n",
       "3         4                         'Oli Mango Baritone L2 MGB   \n",
       "4         5        Danny's Song on 'Oli Mango Baritone & Tenor   \n",
       "\n",
       "           published_at     video_id  \\\n",
       "0  2023-08-21T22:57:21Z  1__pjKICYcA   \n",
       "1  2023-08-21T23:00:36Z  mgGgRXIZY4Q   \n",
       "2  2023-11-16T18:57:56Z  Oj_48kO9R8w   \n",
       "3  2023-11-16T19:12:58Z  K1WS2LC0U2s   \n",
       "4  2023-11-16T19:28:57Z  sMBVxO3s9KU   \n",
       "\n",
       "                                  video_thumbnail  \\\n",
       "0  https://i.ytimg.com/vi/1__pjKICYcA/default.jpg   \n",
       "1  https://i.ytimg.com/vi/mgGgRXIZY4Q/default.jpg   \n",
       "2  https://i.ytimg.com/vi/Oj_48kO9R8w/default.jpg   \n",
       "3  https://i.ytimg.com/vi/K1WS2LC0U2s/default.jpg   \n",
       "4  https://i.ytimg.com/vi/sMBVxO3s9KU/default.jpg   \n",
       "\n",
       "                          playlist_id  \n",
       "0  PLEQbDXy0ShuW7JotVhROvR4TxhmO_0tLD  \n",
       "1  PLEQbDXy0ShuW7JotVhROvR4TxhmO_0tLD  \n",
       "2  PLEQbDXy0ShuW7JotVhROvR4TxhmO_0tLD  \n",
       "3  PLEQbDXy0ShuW7JotVhROvR4TxhmO_0tLD  \n",
       "4  PLEQbDXy0ShuW7JotVhROvR4TxhmO_0tLD  "
      ]
     },
     "execution_count": 5,
     "metadata": {},
     "output_type": "execute_result"
    }
   ],
   "source": [
    "playlist2_df = pd.read_csv(playlist2_path)\n",
    "log_df(playlist2_df)"
   ]
  },
  {
   "cell_type": "code",
   "execution_count": 6,
   "id": "6b6df571-5cac-4c09-a791-f0d461ebb8a4",
   "metadata": {},
   "outputs": [
    {
     "name": "stdout",
     "output_type": "stream",
     "text": [
      "(14, 6)\n"
     ]
    },
    {
     "data": {
      "text/html": [
       "<div>\n",
       "<style scoped>\n",
       "    .dataframe tbody tr th:only-of-type {\n",
       "        vertical-align: middle;\n",
       "    }\n",
       "\n",
       "    .dataframe tbody tr th {\n",
       "        vertical-align: top;\n",
       "    }\n",
       "\n",
       "    .dataframe thead th {\n",
       "        text-align: right;\n",
       "    }\n",
       "</style>\n",
       "<table border=\"1\" class=\"dataframe\">\n",
       "  <thead>\n",
       "    <tr style=\"text-align: right;\">\n",
       "      <th></th>\n",
       "      <th>position</th>\n",
       "      <th>video_title</th>\n",
       "      <th>published_at</th>\n",
       "      <th>video_id</th>\n",
       "      <th>video_thumbnail</th>\n",
       "      <th>playlist_id</th>\n",
       "    </tr>\n",
       "  </thead>\n",
       "  <tbody>\n",
       "    <tr>\n",
       "      <th>0</th>\n",
       "      <td>-9999</td>\n",
       "      <td>'Oli Mastergrade Koa Tenor 145</td>\n",
       "      <td>2024-04-04T20:53:23Z</td>\n",
       "      <td>BHOxKauk_zE</td>\n",
       "      <td>https://i.ytimg.com/vi/BHOxKauk_zE/default.jpg</td>\n",
       "      <td>NaN</td>\n",
       "    </tr>\n",
       "    <tr>\n",
       "      <th>1</th>\n",
       "      <td>-9999</td>\n",
       "      <td>'Oli L2 TSA Spruce Acacia Tenor</td>\n",
       "      <td>2024-08-06T23:05:27Z</td>\n",
       "      <td>Yk98tlUrQwM</td>\n",
       "      <td>https://i.ytimg.com/vi/Yk98tlUrQwM/default.jpg</td>\n",
       "      <td>NaN</td>\n",
       "    </tr>\n",
       "    <tr>\n",
       "      <th>2</th>\n",
       "      <td>-9999</td>\n",
       "      <td>'Oli L2-TCA v3 Cedar Acacia Tenor</td>\n",
       "      <td>2024-10-12T22:14:02Z</td>\n",
       "      <td>LvcZOHceJ-I</td>\n",
       "      <td>https://i.ytimg.com/vi/LvcZOHceJ-I/default.jpg</td>\n",
       "      <td>NaN</td>\n",
       "    </tr>\n",
       "    <tr>\n",
       "      <th>3</th>\n",
       "      <td>-9999</td>\n",
       "      <td>'Oli L1 TMGS 2025 Mango Tenor Satin</td>\n",
       "      <td>2025-01-29T22:37:14Z</td>\n",
       "      <td>dKotBrEFZgA</td>\n",
       "      <td>https://i.ytimg.com/vi/dKotBrEFZgA/default.jpg</td>\n",
       "      <td>NaN</td>\n",
       "    </tr>\n",
       "    <tr>\n",
       "      <th>4</th>\n",
       "      <td>-9999</td>\n",
       "      <td>'Oli L2-BCR 858</td>\n",
       "      <td>2025-02-08T18:43:34Z</td>\n",
       "      <td>rVt1EjNZg_k</td>\n",
       "      <td>https://i.ytimg.com/vi/rVt1EjNZg_k/default.jpg</td>\n",
       "      <td>NaN</td>\n",
       "    </tr>\n",
       "  </tbody>\n",
       "</table>\n",
       "</div>"
      ],
      "text/plain": [
       "   position                          video_title          published_at  \\\n",
       "0     -9999       'Oli Mastergrade Koa Tenor 145  2024-04-04T20:53:23Z   \n",
       "1     -9999      'Oli L2 TSA Spruce Acacia Tenor  2024-08-06T23:05:27Z   \n",
       "2     -9999    'Oli L2-TCA v3 Cedar Acacia Tenor  2024-10-12T22:14:02Z   \n",
       "3     -9999  'Oli L1 TMGS 2025 Mango Tenor Satin  2025-01-29T22:37:14Z   \n",
       "4     -9999                      'Oli L2-BCR 858  2025-02-08T18:43:34Z   \n",
       "\n",
       "      video_id                                 video_thumbnail  playlist_id  \n",
       "0  BHOxKauk_zE  https://i.ytimg.com/vi/BHOxKauk_zE/default.jpg          NaN  \n",
       "1  Yk98tlUrQwM  https://i.ytimg.com/vi/Yk98tlUrQwM/default.jpg          NaN  \n",
       "2  LvcZOHceJ-I  https://i.ytimg.com/vi/LvcZOHceJ-I/default.jpg          NaN  \n",
       "3  dKotBrEFZgA  https://i.ytimg.com/vi/dKotBrEFZgA/default.jpg          NaN  \n",
       "4  rVt1EjNZg_k  https://i.ytimg.com/vi/rVt1EjNZg_k/default.jpg          NaN  "
      ]
     },
     "execution_count": 6,
     "metadata": {},
     "output_type": "execute_result"
    }
   ],
   "source": [
    "missing_df = pd.read_csv(missing_path)\n",
    "log_df(missing_df)"
   ]
  },
  {
   "cell_type": "code",
   "execution_count": 7,
   "id": "90f695eb-92df-488e-807a-f9b52f4abfed",
   "metadata": {},
   "outputs": [
    {
     "data": {
      "text/plain": [
       "(390, 6)"
      ]
     },
     "execution_count": 7,
     "metadata": {},
     "output_type": "execute_result"
    }
   ],
   "source": [
    "combine_df = pd.concat([playlist1_df, playlist2_df, missing_df])\n",
    "combine_df.shape"
   ]
  },
  {
   "cell_type": "code",
   "execution_count": 8,
   "id": "e504f805-86d5-452c-9c72-253e31472b7d",
   "metadata": {},
   "outputs": [
    {
     "data": {
      "text/plain": [
       "390"
      ]
     },
     "execution_count": 8,
     "metadata": {},
     "output_type": "execute_result"
    }
   ],
   "source": [
    "len(combine_df['video_id'].unique())"
   ]
  },
  {
   "cell_type": "code",
   "execution_count": 9,
   "id": "178e717b",
   "metadata": {},
   "outputs": [],
   "source": [
    "combine_df.columns = [name.replace('_', ' ').title() for name in combine_df.columns]"
   ]
  },
  {
   "cell_type": "code",
   "execution_count": 10,
   "id": "23ccb187",
   "metadata": {},
   "outputs": [],
   "source": [
    "combine_df.to_csv('../app/data/videos_list.csv', index=False)"
   ]
  },
  {
   "cell_type": "markdown",
   "id": "1a2382b7-1df9-4067-9ca7-08dbb5f2026b",
   "metadata": {},
   "source": [
    "## models"
   ]
  },
  {
   "cell_type": "code",
   "execution_count": 11,
   "id": "f20d4667-b746-4771-994a-38dc8e0f14c6",
   "metadata": {},
   "outputs": [
    {
     "name": "stdout",
     "output_type": "stream",
     "text": [
      "(448, 11)\n"
     ]
    },
    {
     "data": {
      "text/html": [
       "<div>\n",
       "<style scoped>\n",
       "    .dataframe tbody tr th:only-of-type {\n",
       "        vertical-align: middle;\n",
       "    }\n",
       "\n",
       "    .dataframe tbody tr th {\n",
       "        vertical-align: top;\n",
       "    }\n",
       "\n",
       "    .dataframe thead th {\n",
       "        text-align: right;\n",
       "    }\n",
       "</style>\n",
       "<table border=\"1\" class=\"dataframe\">\n",
       "  <thead>\n",
       "    <tr style=\"text-align: right;\">\n",
       "      <th></th>\n",
       "      <th>model</th>\n",
       "      <th>tier</th>\n",
       "      <th>type</th>\n",
       "      <th>size</th>\n",
       "      <th>top_wood</th>\n",
       "      <th>back_wood</th>\n",
       "      <th>finish</th>\n",
       "      <th>video_id</th>\n",
       "      <th>video_type</th>\n",
       "      <th>video_provider</th>\n",
       "      <th>oli_id</th>\n",
       "    </tr>\n",
       "  </thead>\n",
       "  <tbody>\n",
       "    <tr>\n",
       "      <th>0</th>\n",
       "      <td>L2-TMG</td>\n",
       "      <td>L2</td>\n",
       "      <td>TMG</td>\n",
       "      <td>Tenor</td>\n",
       "      <td>Mango</td>\n",
       "      <td>Mango</td>\n",
       "      <td>gloss</td>\n",
       "      <td>1__pjKICYcA</td>\n",
       "      <td>other</td>\n",
       "      <td>youtube</td>\n",
       "      <td>f8e2f0955694a60036f37491c15bcca4</td>\n",
       "    </tr>\n",
       "    <tr>\n",
       "      <th>1</th>\n",
       "      <td>NaN</td>\n",
       "      <td>NaN</td>\n",
       "      <td>NaN</td>\n",
       "      <td>NaN</td>\n",
       "      <td>NaN</td>\n",
       "      <td>NaN</td>\n",
       "      <td>NaN</td>\n",
       "      <td>mgGgRXIZY4Q</td>\n",
       "      <td>song</td>\n",
       "      <td>youtube</td>\n",
       "      <td>NaN</td>\n",
       "    </tr>\n",
       "    <tr>\n",
       "      <th>2</th>\n",
       "      <td>L2-CMG</td>\n",
       "      <td>L2</td>\n",
       "      <td>CMG</td>\n",
       "      <td>Concert</td>\n",
       "      <td>Mango</td>\n",
       "      <td>Mango</td>\n",
       "      <td>gloss</td>\n",
       "      <td>Oj_48kO9R8w</td>\n",
       "      <td>sound_sample</td>\n",
       "      <td>youtube</td>\n",
       "      <td>b896dea775786969dd6a0305484d3e8b</td>\n",
       "    </tr>\n",
       "    <tr>\n",
       "      <th>3</th>\n",
       "      <td>L2-BMG</td>\n",
       "      <td>L2</td>\n",
       "      <td>BMG</td>\n",
       "      <td>Baritone</td>\n",
       "      <td>Mango</td>\n",
       "      <td>Mango</td>\n",
       "      <td>gloss</td>\n",
       "      <td>K1WS2LC0U2s</td>\n",
       "      <td>sound_sample</td>\n",
       "      <td>youtube</td>\n",
       "      <td>6c3bbc40618711d4c968ccc0b716d915</td>\n",
       "    </tr>\n",
       "    <tr>\n",
       "      <th>4</th>\n",
       "      <td>NaN</td>\n",
       "      <td>NaN</td>\n",
       "      <td>NaN</td>\n",
       "      <td>NaN</td>\n",
       "      <td>NaN</td>\n",
       "      <td>NaN</td>\n",
       "      <td>NaN</td>\n",
       "      <td>sMBVxO3s9KU</td>\n",
       "      <td>song</td>\n",
       "      <td>youtube</td>\n",
       "      <td>NaN</td>\n",
       "    </tr>\n",
       "  </tbody>\n",
       "</table>\n",
       "</div>"
      ],
      "text/plain": [
       "    model tier type      size top_wood back_wood finish     video_id  \\\n",
       "0  L2-TMG   L2  TMG     Tenor    Mango     Mango  gloss  1__pjKICYcA   \n",
       "1     NaN  NaN  NaN       NaN      NaN       NaN    NaN  mgGgRXIZY4Q   \n",
       "2  L2-CMG   L2  CMG   Concert    Mango     Mango  gloss  Oj_48kO9R8w   \n",
       "3  L2-BMG   L2  BMG  Baritone    Mango     Mango  gloss  K1WS2LC0U2s   \n",
       "4     NaN  NaN  NaN       NaN      NaN       NaN    NaN  sMBVxO3s9KU   \n",
       "\n",
       "     video_type video_provider                            oli_id  \n",
       "0         other        youtube  f8e2f0955694a60036f37491c15bcca4  \n",
       "1          song        youtube                               NaN  \n",
       "2  sound_sample        youtube  b896dea775786969dd6a0305484d3e8b  \n",
       "3  sound_sample        youtube  6c3bbc40618711d4c968ccc0b716d915  \n",
       "4          song        youtube                               NaN  "
      ]
     },
     "execution_count": 11,
     "metadata": {},
     "output_type": "execute_result"
    }
   ],
   "source": [
    "cols = ['model', 'tier', 'type', 'size', 'top_wood', 'back_wood', 'finish',\n",
    "        'video_id', 'video_type', 'video_provider', 'oli_id' ]\n",
    "\n",
    "my_oli_df = pd.read_csv(my_oli_path, usecols=cols)\n",
    "log_df(my_oli_df)"
   ]
  },
  {
   "cell_type": "code",
   "execution_count": 12,
   "id": "201dcbdd-41ce-4f26-a0e3-a6d9f873712d",
   "metadata": {},
   "outputs": [
    {
     "data": {
      "text/plain": [
       "array(['other', 'song', 'sound_sample', 'equipment', 'hidden', nan,\n",
       "       'factory_tour'], dtype=object)"
      ]
     },
     "execution_count": 12,
     "metadata": {},
     "output_type": "execute_result"
    }
   ],
   "source": [
    "my_oli_df['video_type'].unique()"
   ]
  },
  {
   "cell_type": "code",
   "execution_count": 13,
   "id": "2511c30e-1f3a-4294-9552-f7bfdcfcf8ec",
   "metadata": {},
   "outputs": [
    {
     "name": "stdout",
     "output_type": "stream",
     "text": [
      "(175, 10)\n"
     ]
    },
    {
     "data": {
      "text/html": [
       "<div>\n",
       "<style scoped>\n",
       "    .dataframe tbody tr th:only-of-type {\n",
       "        vertical-align: middle;\n",
       "    }\n",
       "\n",
       "    .dataframe tbody tr th {\n",
       "        vertical-align: top;\n",
       "    }\n",
       "\n",
       "    .dataframe thead th {\n",
       "        text-align: right;\n",
       "    }\n",
       "</style>\n",
       "<table border=\"1\" class=\"dataframe\">\n",
       "  <thead>\n",
       "    <tr style=\"text-align: right;\">\n",
       "      <th></th>\n",
       "      <th>model</th>\n",
       "      <th>tier</th>\n",
       "      <th>type</th>\n",
       "      <th>size</th>\n",
       "      <th>top_wood</th>\n",
       "      <th>back_wood</th>\n",
       "      <th>finish</th>\n",
       "      <th>video_id</th>\n",
       "      <th>video_provider</th>\n",
       "      <th>oli_id</th>\n",
       "    </tr>\n",
       "  </thead>\n",
       "  <tbody>\n",
       "    <tr>\n",
       "      <th>33</th>\n",
       "      <td>L2-TSQM</td>\n",
       "      <td>L2</td>\n",
       "      <td>TSQM</td>\n",
       "      <td>Tenor</td>\n",
       "      <td>Spruce</td>\n",
       "      <td>Quilted Maple</td>\n",
       "      <td>gloss</td>\n",
       "      <td>ygsknEQj5NI</td>\n",
       "      <td>youtube</td>\n",
       "      <td>f8d9e63b0e42027dbf61c760d9df9e02</td>\n",
       "    </tr>\n",
       "    <tr>\n",
       "      <th>36</th>\n",
       "      <td>L2-TQM</td>\n",
       "      <td>L2</td>\n",
       "      <td>TQM</td>\n",
       "      <td>Tenor</td>\n",
       "      <td>Quilted Maple</td>\n",
       "      <td>Quilted Maple</td>\n",
       "      <td>gloss</td>\n",
       "      <td>HNenXmQh9Wg</td>\n",
       "      <td>youtube</td>\n",
       "      <td>1eb4f51132efa88ab133dd45e7b2f838</td>\n",
       "    </tr>\n",
       "    <tr>\n",
       "      <th>40</th>\n",
       "      <td>L2-TFM</td>\n",
       "      <td>L2</td>\n",
       "      <td>TFM</td>\n",
       "      <td>Tenor</td>\n",
       "      <td>Flame Maple</td>\n",
       "      <td>Flame Maple</td>\n",
       "      <td>gloss</td>\n",
       "      <td>wdNBvGFFY9w</td>\n",
       "      <td>youtube</td>\n",
       "      <td>bae3debb9cf0f837dbf7c266a1ddfc1d</td>\n",
       "    </tr>\n",
       "    <tr>\n",
       "      <th>69</th>\n",
       "      <td>L2-CSE</td>\n",
       "      <td>L2</td>\n",
       "      <td>CSE</td>\n",
       "      <td>Concert</td>\n",
       "      <td>Spruce</td>\n",
       "      <td>Macassar Ebony</td>\n",
       "      <td>gloss</td>\n",
       "      <td>-RtOCwJexIU</td>\n",
       "      <td>youtube</td>\n",
       "      <td>6605026230f583e66738ed318a486c3c</td>\n",
       "    </tr>\n",
       "    <tr>\n",
       "      <th>80</th>\n",
       "      <td>L2-CCA</td>\n",
       "      <td>L2</td>\n",
       "      <td>CCA</td>\n",
       "      <td>Concert</td>\n",
       "      <td>Cedar</td>\n",
       "      <td>Acacia</td>\n",
       "      <td>gloss</td>\n",
       "      <td>wl1SpoujiRM</td>\n",
       "      <td>youtube</td>\n",
       "      <td>c3503c5a8ca4fa19fc9f3ffaf49a30e3</td>\n",
       "    </tr>\n",
       "  </tbody>\n",
       "</table>\n",
       "</div>"
      ],
      "text/plain": [
       "       model tier   type     size       top_wood        back_wood finish  \\\n",
       "33  L2-TSQM    L2  TSQM     Tenor         Spruce    Quilted Maple  gloss   \n",
       "36    L2-TQM   L2    TQM    Tenor  Quilted Maple    Quilted Maple  gloss   \n",
       "40    L2-TFM   L2    TFM    Tenor    Flame Maple      Flame Maple  gloss   \n",
       "69    L2-CSE   L2    CSE  Concert         Spruce  Macassar Ebony   gloss   \n",
       "80    L2-CCA   L2    CCA  Concert          Cedar           Acacia  gloss   \n",
       "\n",
       "       video_id video_provider                            oli_id  \n",
       "33  ygsknEQj5NI        youtube  f8d9e63b0e42027dbf61c760d9df9e02  \n",
       "36  HNenXmQh9Wg        youtube  1eb4f51132efa88ab133dd45e7b2f838  \n",
       "40  wdNBvGFFY9w        youtube  bae3debb9cf0f837dbf7c266a1ddfc1d  \n",
       "69  -RtOCwJexIU        youtube  6605026230f583e66738ed318a486c3c  \n",
       "80  wl1SpoujiRM        youtube  c3503c5a8ca4fa19fc9f3ffaf49a30e3  "
      ]
     },
     "execution_count": 13,
     "metadata": {},
     "output_type": "execute_result"
    }
   ],
   "source": [
    "models_df = my_oli_df[my_oli_df['video_type'] == 'sound_sample']\n",
    "models_df = models_df.drop('video_type', axis=1)\n",
    "\n",
    "models_df = models_df.dropna(subset=['model'])\n",
    "models_df = models_df.drop_duplicates(subset=['oli_id'], keep='last')\n",
    "\n",
    "log_df(models_df)\n",
    "\n",
    "# 162, 10"
   ]
  },
  {
   "cell_type": "markdown",
   "id": "782ec367-b53f-42c8-9eec-a1aad9f05a1a",
   "metadata": {},
   "source": [
    "both curly and normal redwood have same model name"
   ]
  },
  {
   "cell_type": "code",
   "execution_count": 14,
   "id": "89086eb2-feab-4f4d-8e91-cbab4cb8c716",
   "metadata": {},
   "outputs": [
    {
     "data": {
      "text/html": [
       "<div>\n",
       "<style scoped>\n",
       "    .dataframe tbody tr th:only-of-type {\n",
       "        vertical-align: middle;\n",
       "    }\n",
       "\n",
       "    .dataframe tbody tr th {\n",
       "        vertical-align: top;\n",
       "    }\n",
       "\n",
       "    .dataframe thead th {\n",
       "        text-align: right;\n",
       "    }\n",
       "</style>\n",
       "<table border=\"1\" class=\"dataframe\">\n",
       "  <thead>\n",
       "    <tr style=\"text-align: right;\">\n",
       "      <th></th>\n",
       "      <th>model</th>\n",
       "      <th>tier</th>\n",
       "      <th>type</th>\n",
       "      <th>size</th>\n",
       "      <th>top_wood</th>\n",
       "      <th>back_wood</th>\n",
       "      <th>finish</th>\n",
       "      <th>video_id</th>\n",
       "      <th>video_provider</th>\n",
       "      <th>oli_id</th>\n",
       "    </tr>\n",
       "  </thead>\n",
       "  <tbody>\n",
       "    <tr>\n",
       "      <th>331</th>\n",
       "      <td>L2-CRR</td>\n",
       "      <td>L2</td>\n",
       "      <td>CRR</td>\n",
       "      <td>Concert</td>\n",
       "      <td>Curly Redwood</td>\n",
       "      <td>Rosewood</td>\n",
       "      <td>gloss</td>\n",
       "      <td>7fNk5YvFyy0</td>\n",
       "      <td>youtube</td>\n",
       "      <td>8b90515cee6190837dc3166df65ebad4</td>\n",
       "    </tr>\n",
       "    <tr>\n",
       "      <th>366</th>\n",
       "      <td>L2-TMR</td>\n",
       "      <td>L2</td>\n",
       "      <td>TMR</td>\n",
       "      <td>Tenor</td>\n",
       "      <td>Curly Myrtle</td>\n",
       "      <td>Curly Myrtle</td>\n",
       "      <td>NaN</td>\n",
       "      <td>037scxWrmu4</td>\n",
       "      <td>youtube</td>\n",
       "      <td>736db2f2588da8e9dbe7cb980c7d1c1c</td>\n",
       "    </tr>\n",
       "    <tr>\n",
       "      <th>367</th>\n",
       "      <td>L2-TMR</td>\n",
       "      <td>L2</td>\n",
       "      <td>TMR</td>\n",
       "      <td>Tenor</td>\n",
       "      <td>Tiger Myrtle</td>\n",
       "      <td>Tiger Myrtle</td>\n",
       "      <td>NaN</td>\n",
       "      <td>sd3nrJOD-Pk</td>\n",
       "      <td>youtube</td>\n",
       "      <td>4e2e8ac61083c99fb505e03bb7f3db6f</td>\n",
       "    </tr>\n",
       "    <tr>\n",
       "      <th>376</th>\n",
       "      <td>L2-CMR</td>\n",
       "      <td>L2</td>\n",
       "      <td>CMR</td>\n",
       "      <td>Concert</td>\n",
       "      <td>Curly Myrtle</td>\n",
       "      <td>Curly Myrtle</td>\n",
       "      <td>NaN</td>\n",
       "      <td>T6Qaw6nV-qc</td>\n",
       "      <td>youtube</td>\n",
       "      <td>a0049a32b7bf5da3772385d65c7b5316</td>\n",
       "    </tr>\n",
       "    <tr>\n",
       "      <th>390</th>\n",
       "      <td>L2-TCPMR</td>\n",
       "      <td>L2</td>\n",
       "      <td>TCPMR</td>\n",
       "      <td>Tenor</td>\n",
       "      <td>Port Orford Cedar</td>\n",
       "      <td>Myrtle</td>\n",
       "      <td>gloss</td>\n",
       "      <td>oiHEZKaN8ik</td>\n",
       "      <td>youtube</td>\n",
       "      <td>e88bae318252db2eb1cc04e350a92b58</td>\n",
       "    </tr>\n",
       "    <tr>\n",
       "      <th>398</th>\n",
       "      <td>L3-TRML</td>\n",
       "      <td>L3</td>\n",
       "      <td>TRML</td>\n",
       "      <td>Tenor</td>\n",
       "      <td>Curly Redwood</td>\n",
       "      <td>Milo</td>\n",
       "      <td>gloss</td>\n",
       "      <td>6uik2UVNWAw</td>\n",
       "      <td>youtube</td>\n",
       "      <td>7092f00e29aed5716fa9a60691ce3b95</td>\n",
       "    </tr>\n",
       "    <tr>\n",
       "      <th>420</th>\n",
       "      <td>L3-CSE-H</td>\n",
       "      <td>L3</td>\n",
       "      <td>CSE-H</td>\n",
       "      <td>Concert</td>\n",
       "      <td>Spruce</td>\n",
       "      <td>Macassar Ebony</td>\n",
       "      <td>NaN</td>\n",
       "      <td>7PABqyB1Ef8</td>\n",
       "      <td>youtube</td>\n",
       "      <td>b9f09085ae56331c73ba9eff7922ffc0</td>\n",
       "    </tr>\n",
       "    <tr>\n",
       "      <th>422</th>\n",
       "      <td>L2-BCPMR</td>\n",
       "      <td>L2</td>\n",
       "      <td>BCPMR</td>\n",
       "      <td>Baritone</td>\n",
       "      <td>Port Orford Cedar</td>\n",
       "      <td>Myrtle</td>\n",
       "      <td>gloss</td>\n",
       "      <td>vZgdz3o2vHw</td>\n",
       "      <td>youtube</td>\n",
       "      <td>e6c084174d11668f3c8a3d10ed3c368a</td>\n",
       "    </tr>\n",
       "    <tr>\n",
       "      <th>441</th>\n",
       "      <td>L3-CRML</td>\n",
       "      <td>L3</td>\n",
       "      <td>CRML</td>\n",
       "      <td>Concert</td>\n",
       "      <td>Curly Redwood</td>\n",
       "      <td>Milo</td>\n",
       "      <td>gloss</td>\n",
       "      <td>1090692649</td>\n",
       "      <td>vimeo</td>\n",
       "      <td>0cf30ef814fa4b9820ebc1dc50b615a8</td>\n",
       "    </tr>\n",
       "  </tbody>\n",
       "</table>\n",
       "</div>"
      ],
      "text/plain": [
       "        model tier   type      size           top_wood       back_wood finish  \\\n",
       "331    L2-CRR   L2    CRR   Concert      Curly Redwood        Rosewood  gloss   \n",
       "366    L2-TMR   L2    TMR     Tenor       Curly Myrtle    Curly Myrtle    NaN   \n",
       "367    L2-TMR   L2    TMR     Tenor       Tiger Myrtle    Tiger Myrtle    NaN   \n",
       "376    L2-CMR   L2    CMR   Concert       Curly Myrtle    Curly Myrtle    NaN   \n",
       "390  L2-TCPMR   L2  TCPMR     Tenor  Port Orford Cedar          Myrtle  gloss   \n",
       "398   L3-TRML   L3   TRML     Tenor      Curly Redwood            Milo  gloss   \n",
       "420  L3-CSE-H   L3  CSE-H   Concert             Spruce  Macassar Ebony    NaN   \n",
       "422  L2-BCPMR   L2  BCPMR  Baritone  Port Orford Cedar          Myrtle  gloss   \n",
       "441   L3-CRML   L3   CRML   Concert      Curly Redwood            Milo  gloss   \n",
       "\n",
       "        video_id video_provider                            oli_id  \n",
       "331  7fNk5YvFyy0        youtube  8b90515cee6190837dc3166df65ebad4  \n",
       "366  037scxWrmu4        youtube  736db2f2588da8e9dbe7cb980c7d1c1c  \n",
       "367  sd3nrJOD-Pk        youtube  4e2e8ac61083c99fb505e03bb7f3db6f  \n",
       "376  T6Qaw6nV-qc        youtube  a0049a32b7bf5da3772385d65c7b5316  \n",
       "390  oiHEZKaN8ik        youtube  e88bae318252db2eb1cc04e350a92b58  \n",
       "398  6uik2UVNWAw        youtube  7092f00e29aed5716fa9a60691ce3b95  \n",
       "420  7PABqyB1Ef8        youtube  b9f09085ae56331c73ba9eff7922ffc0  \n",
       "422  vZgdz3o2vHw        youtube  e6c084174d11668f3c8a3d10ed3c368a  \n",
       "441   1090692649          vimeo  0cf30ef814fa4b9820ebc1dc50b615a8  "
      ]
     },
     "execution_count": 14,
     "metadata": {},
     "output_type": "execute_result"
    }
   ],
   "source": [
    "models_df[models_df.duplicated(subset=['model'])]"
   ]
  },
  {
   "cell_type": "code",
   "execution_count": 15,
   "id": "6717629d",
   "metadata": {},
   "outputs": [],
   "source": [
    "models_df.columns = [name.replace('_', ' ').title() for name in models_df.columns]\n"
   ]
  },
  {
   "cell_type": "markdown",
   "id": "380c1995-289f-499f-a3a4-7a18d635711c",
   "metadata": {},
   "source": [
    "check that every model has a video"
   ]
  },
  {
   "cell_type": "code",
   "execution_count": 16,
   "id": "7a53bab6-ecd1-480c-9c73-287c94164f18",
   "metadata": {},
   "outputs": [
    {
     "ename": "KeyError",
     "evalue": "'video_id'",
     "output_type": "error",
     "traceback": [
      "\u001b[31m---------------------------------------------------------------------------\u001b[39m",
      "\u001b[31mKeyError\u001b[39m                                  Traceback (most recent call last)",
      "\u001b[36mFile \u001b[39m\u001b[32m~/Development/personal_projects/oli/venv/lib/python3.12/site-packages/pandas/core/indexes/base.py:3805\u001b[39m, in \u001b[36mIndex.get_loc\u001b[39m\u001b[34m(self, key)\u001b[39m\n\u001b[32m   3804\u001b[39m \u001b[38;5;28;01mtry\u001b[39;00m:\n\u001b[32m-> \u001b[39m\u001b[32m3805\u001b[39m     \u001b[38;5;28;01mreturn\u001b[39;00m \u001b[38;5;28;43mself\u001b[39;49m\u001b[43m.\u001b[49m\u001b[43m_engine\u001b[49m\u001b[43m.\u001b[49m\u001b[43mget_loc\u001b[49m\u001b[43m(\u001b[49m\u001b[43mcasted_key\u001b[49m\u001b[43m)\u001b[49m\n\u001b[32m   3806\u001b[39m \u001b[38;5;28;01mexcept\u001b[39;00m \u001b[38;5;167;01mKeyError\u001b[39;00m \u001b[38;5;28;01mas\u001b[39;00m err:\n",
      "\u001b[36mFile \u001b[39m\u001b[32mindex.pyx:167\u001b[39m, in \u001b[36mpandas._libs.index.IndexEngine.get_loc\u001b[39m\u001b[34m()\u001b[39m\n",
      "\u001b[36mFile \u001b[39m\u001b[32mindex.pyx:196\u001b[39m, in \u001b[36mpandas._libs.index.IndexEngine.get_loc\u001b[39m\u001b[34m()\u001b[39m\n",
      "\u001b[36mFile \u001b[39m\u001b[32mpandas/_libs/hashtable_class_helper.pxi:7081\u001b[39m, in \u001b[36mpandas._libs.hashtable.PyObjectHashTable.get_item\u001b[39m\u001b[34m()\u001b[39m\n",
      "\u001b[36mFile \u001b[39m\u001b[32mpandas/_libs/hashtable_class_helper.pxi:7089\u001b[39m, in \u001b[36mpandas._libs.hashtable.PyObjectHashTable.get_item\u001b[39m\u001b[34m()\u001b[39m\n",
      "\u001b[31mKeyError\u001b[39m: 'video_id'",
      "\nThe above exception was the direct cause of the following exception:\n",
      "\u001b[31mKeyError\u001b[39m                                  Traceback (most recent call last)",
      "\u001b[36mCell\u001b[39m\u001b[36m \u001b[39m\u001b[32mIn[16]\u001b[39m\u001b[32m, line 1\u001b[39m\n\u001b[32m----> \u001b[39m\u001b[32m1\u001b[39m \u001b[43mmodels_df\u001b[49m\u001b[43m[\u001b[49m\u001b[33;43m'\u001b[39;49m\u001b[33;43mvideo_id\u001b[39;49m\u001b[33;43m'\u001b[39;49m\u001b[43m]\u001b[49m[pd.isna(models_df[\u001b[33m'\u001b[39m\u001b[33mvideo_id\u001b[39m\u001b[33m'\u001b[39m])]\n",
      "\u001b[36mFile \u001b[39m\u001b[32m~/Development/personal_projects/oli/venv/lib/python3.12/site-packages/pandas/core/frame.py:4102\u001b[39m, in \u001b[36mDataFrame.__getitem__\u001b[39m\u001b[34m(self, key)\u001b[39m\n\u001b[32m   4100\u001b[39m \u001b[38;5;28;01mif\u001b[39;00m \u001b[38;5;28mself\u001b[39m.columns.nlevels > \u001b[32m1\u001b[39m:\n\u001b[32m   4101\u001b[39m     \u001b[38;5;28;01mreturn\u001b[39;00m \u001b[38;5;28mself\u001b[39m._getitem_multilevel(key)\n\u001b[32m-> \u001b[39m\u001b[32m4102\u001b[39m indexer = \u001b[38;5;28;43mself\u001b[39;49m\u001b[43m.\u001b[49m\u001b[43mcolumns\u001b[49m\u001b[43m.\u001b[49m\u001b[43mget_loc\u001b[49m\u001b[43m(\u001b[49m\u001b[43mkey\u001b[49m\u001b[43m)\u001b[49m\n\u001b[32m   4103\u001b[39m \u001b[38;5;28;01mif\u001b[39;00m is_integer(indexer):\n\u001b[32m   4104\u001b[39m     indexer = [indexer]\n",
      "\u001b[36mFile \u001b[39m\u001b[32m~/Development/personal_projects/oli/venv/lib/python3.12/site-packages/pandas/core/indexes/base.py:3812\u001b[39m, in \u001b[36mIndex.get_loc\u001b[39m\u001b[34m(self, key)\u001b[39m\n\u001b[32m   3807\u001b[39m     \u001b[38;5;28;01mif\u001b[39;00m \u001b[38;5;28misinstance\u001b[39m(casted_key, \u001b[38;5;28mslice\u001b[39m) \u001b[38;5;129;01mor\u001b[39;00m (\n\u001b[32m   3808\u001b[39m         \u001b[38;5;28misinstance\u001b[39m(casted_key, abc.Iterable)\n\u001b[32m   3809\u001b[39m         \u001b[38;5;129;01mand\u001b[39;00m \u001b[38;5;28many\u001b[39m(\u001b[38;5;28misinstance\u001b[39m(x, \u001b[38;5;28mslice\u001b[39m) \u001b[38;5;28;01mfor\u001b[39;00m x \u001b[38;5;129;01min\u001b[39;00m casted_key)\n\u001b[32m   3810\u001b[39m     ):\n\u001b[32m   3811\u001b[39m         \u001b[38;5;28;01mraise\u001b[39;00m InvalidIndexError(key)\n\u001b[32m-> \u001b[39m\u001b[32m3812\u001b[39m     \u001b[38;5;28;01mraise\u001b[39;00m \u001b[38;5;167;01mKeyError\u001b[39;00m(key) \u001b[38;5;28;01mfrom\u001b[39;00m\u001b[38;5;250m \u001b[39m\u001b[34;01merr\u001b[39;00m\n\u001b[32m   3813\u001b[39m \u001b[38;5;28;01mexcept\u001b[39;00m \u001b[38;5;167;01mTypeError\u001b[39;00m:\n\u001b[32m   3814\u001b[39m     \u001b[38;5;66;03m# If we have a listlike key, _check_indexing_error will raise\u001b[39;00m\n\u001b[32m   3815\u001b[39m     \u001b[38;5;66;03m#  InvalidIndexError. Otherwise we fall through and re-raise\u001b[39;00m\n\u001b[32m   3816\u001b[39m     \u001b[38;5;66;03m#  the TypeError.\u001b[39;00m\n\u001b[32m   3817\u001b[39m     \u001b[38;5;28mself\u001b[39m._check_indexing_error(key)\n",
      "\u001b[31mKeyError\u001b[39m: 'video_id'"
     ]
    }
   ],
   "source": [
    "models_df['video_id'][pd.isna(models_df['video_id'])]"
   ]
  },
  {
   "cell_type": "markdown",
   "id": "be283b89-e51b-4e0e-9db3-f30287cad90b",
   "metadata": {},
   "source": [
    "check that every model has a video provider"
   ]
  },
  {
   "cell_type": "code",
   "execution_count": null,
   "id": "1dc45854-9085-4e2a-b24f-2857119826e4",
   "metadata": {},
   "outputs": [],
   "source": [
    "models_df['video_provider'][pd.isna(models_df['video_provider'])]"
   ]
  },
  {
   "cell_type": "code",
   "execution_count": null,
   "id": "0096e3d1-7780-4cb3-a031-5a57d54e8043",
   "metadata": {},
   "outputs": [],
   "source": [
    "models_df.to_csv('../app/data/models_list.csv', index=False)"
   ]
  },
  {
   "cell_type": "markdown",
   "id": "3437df6f-f0bf-4aa3-a85d-a8a8e2f1f618",
   "metadata": {},
   "source": [
    "## units"
   ]
  },
  {
   "cell_type": "code",
   "execution_count": null,
   "id": "377e4916-be29-41c3-a137-7aa125936c92",
   "metadata": {},
   "outputs": [],
   "source": [
    "cols = ['oli_id', 'video_id',\n",
    "        'model_notes', 'notes', 'limited_edition', 'price','serial_number',\n",
    "        'listing_title', 'listing_url', 'redirect_url', 'video_type']\n",
    "\n",
    "my_oli_df = pd.read_csv(my_oli_path, usecols=cols, dtype=int_dtype )\n",
    "log_df(my_oli_df)"
   ]
  },
  {
   "cell_type": "code",
   "execution_count": null,
   "id": "2a38bc54-b650-4af9-87d8-49210305802f",
   "metadata": {},
   "outputs": [],
   "source": [
    "units_df = my_oli_df[my_oli_df['video_type'] == 'sound_sample']\n",
    "units_df = units_df.drop('video_type', axis=1)\n",
    "\n",
    "units_df = units_df.dropna(subset=['oli_id'])\n",
    "\n",
    "log_df(units_df)\n"
   ]
  },
  {
   "cell_type": "code",
   "execution_count": null,
   "id": "1eaa308c",
   "metadata": {},
   "outputs": [],
   "source": [
    "units_df.columns = [name.replace('_', ' ').title() for name in units_df.columns]\n"
   ]
  },
  {
   "cell_type": "code",
   "execution_count": null,
   "id": "0aa76153-9d90-4173-9710-333cd0388bdf",
   "metadata": {},
   "outputs": [],
   "source": [
    "units_df.to_csv('../app/data/units_list.csv', index=False)"
   ]
  },
  {
   "cell_type": "code",
   "execution_count": null,
   "id": "f8ab39ce-52ed-4d9e-b71a-9a3af1998a0b",
   "metadata": {},
   "outputs": [],
   "source": []
  }
 ],
 "metadata": {
  "kernelspec": {
   "display_name": "venv",
   "language": "python",
   "name": "python3"
  },
  "language_info": {
   "codemirror_mode": {
    "name": "ipython",
    "version": 3
   },
   "file_extension": ".py",
   "mimetype": "text/x-python",
   "name": "python",
   "nbconvert_exporter": "python",
   "pygments_lexer": "ipython3",
   "version": "3.12.9"
  }
 },
 "nbformat": 4,
 "nbformat_minor": 5
}
