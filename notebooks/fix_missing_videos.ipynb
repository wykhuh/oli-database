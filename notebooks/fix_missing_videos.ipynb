{
 "cells": [
  {
   "cell_type": "code",
   "execution_count": 1,
   "id": "c0a1b288",
   "metadata": {},
   "outputs": [],
   "source": [
    "import pandas as pd"
   ]
  },
  {
   "cell_type": "code",
   "execution_count": 7,
   "id": "58b2a7e5",
   "metadata": {},
   "outputs": [],
   "source": [
    "def log_df(df, limit=5):\n",
    "    print(df.shape)\n",
    "    return df.head(limit)"
   ]
  },
  {
   "cell_type": "markdown",
   "id": "0a92065f",
   "metadata": {},
   "source": [
    "# update missing csv"
   ]
  },
  {
   "cell_type": "code",
   "execution_count": 24,
   "id": "3727b715",
   "metadata": {},
   "outputs": [
    {
     "name": "stdout",
     "output_type": "stream",
     "text": [
      "(27, 4)\n"
     ]
    },
    {
     "data": {
      "text/html": [
       "<div>\n",
       "<style scoped>\n",
       "    .dataframe tbody tr th:only-of-type {\n",
       "        vertical-align: middle;\n",
       "    }\n",
       "\n",
       "    .dataframe tbody tr th {\n",
       "        vertical-align: top;\n",
       "    }\n",
       "\n",
       "    .dataframe thead th {\n",
       "        text-align: right;\n",
       "    }\n",
       "</style>\n",
       "<table border=\"1\" class=\"dataframe\">\n",
       "  <thead>\n",
       "    <tr style=\"text-align: right;\">\n",
       "      <th></th>\n",
       "      <th>video_title</th>\n",
       "      <th>published_at</th>\n",
       "      <th>video_id</th>\n",
       "      <th>video_thumbnail</th>\n",
       "    </tr>\n",
       "  </thead>\n",
       "  <tbody>\n",
       "    <tr>\n",
       "      <th>0</th>\n",
       "      <td>Guitarras Romero Koa Tenor</td>\n",
       "      <td>2022-08-11T23:54:13Z</td>\n",
       "      <td>NqjgTS_XdsM</td>\n",
       "      <td>https://i.ytimg.com/vi/NqjgTS_XdsM/default.jpg</td>\n",
       "    </tr>\n",
       "    <tr>\n",
       "      <th>1</th>\n",
       "      <td>Pono RT-S Spruce Rosewood Tenor</td>\n",
       "      <td>2022-08-29T00:31:26Z</td>\n",
       "      <td>KyVtpa0y5SM</td>\n",
       "      <td>https://i.ytimg.com/vi/KyVtpa0y5SM/default.jpg</td>\n",
       "    </tr>\n",
       "    <tr>\n",
       "      <th>2</th>\n",
       "      <td>Pono MBSH C Cedar Mahogany Baritone</td>\n",
       "      <td>2022-08-29T02:31:03Z</td>\n",
       "      <td>0t5vGL77iC8</td>\n",
       "      <td>https://i.ytimg.com/vi/0t5vGL77iC8/default.jpg</td>\n",
       "    </tr>\n",
       "    <tr>\n",
       "      <th>3</th>\n",
       "      <td>Rebel Cutaway Tenors C funk</td>\n",
       "      <td>2022-08-31T22:28:13Z</td>\n",
       "      <td>TiMDTZ6a4Gg</td>\n",
       "      <td>https://i.ytimg.com/vi/TiMDTZ6a4Gg/default.jpg</td>\n",
       "    </tr>\n",
       "    <tr>\n",
       "      <th>4</th>\n",
       "      <td>Singer Spruce Rosewood Tenor</td>\n",
       "      <td>2022-10-20T02:38:00Z</td>\n",
       "      <td>7AlNdo3CVdk</td>\n",
       "      <td>https://i.ytimg.com/vi/7AlNdo3CVdk/default.jpg</td>\n",
       "    </tr>\n",
       "  </tbody>\n",
       "</table>\n",
       "</div>"
      ],
      "text/plain": [
       "                           video_title          published_at     video_id  \\\n",
       "0           Guitarras Romero Koa Tenor  2022-08-11T23:54:13Z  NqjgTS_XdsM   \n",
       "1      Pono RT-S Spruce Rosewood Tenor  2022-08-29T00:31:26Z  KyVtpa0y5SM   \n",
       "2  Pono MBSH C Cedar Mahogany Baritone  2022-08-29T02:31:03Z  0t5vGL77iC8   \n",
       "3          Rebel Cutaway Tenors C funk  2022-08-31T22:28:13Z  TiMDTZ6a4Gg   \n",
       "4         Singer Spruce Rosewood Tenor  2022-10-20T02:38:00Z  7AlNdo3CVdk   \n",
       "\n",
       "                                  video_thumbnail  \n",
       "0  https://i.ytimg.com/vi/NqjgTS_XdsM/default.jpg  \n",
       "1  https://i.ytimg.com/vi/KyVtpa0y5SM/default.jpg  \n",
       "2  https://i.ytimg.com/vi/0t5vGL77iC8/default.jpg  \n",
       "3  https://i.ytimg.com/vi/TiMDTZ6a4Gg/default.jpg  \n",
       "4  https://i.ytimg.com/vi/7AlNdo3CVdk/default.jpg  "
      ]
     },
     "execution_count": 24,
     "metadata": {},
     "output_type": "execute_result"
    }
   ],
   "source": [
    "missing_df = pd.read_csv('../raw_data/missing_videos.csv')\n",
    "log_df(missing_df)"
   ]
  },
  {
   "cell_type": "code",
   "execution_count": 25,
   "id": "f140bd2f",
   "metadata": {},
   "outputs": [
    {
     "name": "stdout",
     "output_type": "stream",
     "text": [
      "(13, 6)\n"
     ]
    },
    {
     "data": {
      "text/html": [
       "<div>\n",
       "<style scoped>\n",
       "    .dataframe tbody tr th:only-of-type {\n",
       "        vertical-align: middle;\n",
       "    }\n",
       "\n",
       "    .dataframe tbody tr th {\n",
       "        vertical-align: top;\n",
       "    }\n",
       "\n",
       "    .dataframe thead th {\n",
       "        text-align: right;\n",
       "    }\n",
       "</style>\n",
       "<table border=\"1\" class=\"dataframe\">\n",
       "  <thead>\n",
       "    <tr style=\"text-align: right;\">\n",
       "      <th></th>\n",
       "      <th>position</th>\n",
       "      <th>video_title</th>\n",
       "      <th>published_at</th>\n",
       "      <th>video_id</th>\n",
       "      <th>video_thumbnail</th>\n",
       "      <th>playlist_id</th>\n",
       "    </tr>\n",
       "  </thead>\n",
       "  <tbody>\n",
       "    <tr>\n",
       "      <th>14</th>\n",
       "      <td>-9999</td>\n",
       "      <td>'Oli Mastergrade Koa Tenor 145</td>\n",
       "      <td>2024-04-04T20:53:23Z</td>\n",
       "      <td>BHOxKauk_zE</td>\n",
       "      <td>https://i.ytimg.com/vi/BHOxKauk_zE/default.jpg</td>\n",
       "      <td></td>\n",
       "    </tr>\n",
       "    <tr>\n",
       "      <th>15</th>\n",
       "      <td>-9999</td>\n",
       "      <td>'Oli L2 TSA Spruce Acacia Tenor</td>\n",
       "      <td>2024-08-06T23:05:27Z</td>\n",
       "      <td>Yk98tlUrQwM</td>\n",
       "      <td>https://i.ytimg.com/vi/Yk98tlUrQwM/default.jpg</td>\n",
       "      <td></td>\n",
       "    </tr>\n",
       "    <tr>\n",
       "      <th>16</th>\n",
       "      <td>-9999</td>\n",
       "      <td>'Oli L2-TCA v3 Cedar Acacia Tenor</td>\n",
       "      <td>2024-10-12T22:14:02Z</td>\n",
       "      <td>LvcZOHceJ-I</td>\n",
       "      <td>https://i.ytimg.com/vi/LvcZOHceJ-I/default.jpg</td>\n",
       "      <td></td>\n",
       "    </tr>\n",
       "    <tr>\n",
       "      <th>17</th>\n",
       "      <td>-9999</td>\n",
       "      <td>'Oli L1 TMGS 2025 Mango Tenor Satin</td>\n",
       "      <td>2025-01-29T22:37:14Z</td>\n",
       "      <td>dKotBrEFZgA</td>\n",
       "      <td>https://i.ytimg.com/vi/dKotBrEFZgA/default.jpg</td>\n",
       "      <td></td>\n",
       "    </tr>\n",
       "    <tr>\n",
       "      <th>18</th>\n",
       "      <td>-9999</td>\n",
       "      <td>'Oli L2-BCR 858</td>\n",
       "      <td>2025-02-08T18:43:34Z</td>\n",
       "      <td>rVt1EjNZg_k</td>\n",
       "      <td>https://i.ytimg.com/vi/rVt1EjNZg_k/default.jpg</td>\n",
       "      <td></td>\n",
       "    </tr>\n",
       "  </tbody>\n",
       "</table>\n",
       "</div>"
      ],
      "text/plain": [
       "    position                          video_title          published_at  \\\n",
       "14     -9999       'Oli Mastergrade Koa Tenor 145  2024-04-04T20:53:23Z   \n",
       "15     -9999      'Oli L2 TSA Spruce Acacia Tenor  2024-08-06T23:05:27Z   \n",
       "16     -9999    'Oli L2-TCA v3 Cedar Acacia Tenor  2024-10-12T22:14:02Z   \n",
       "17     -9999  'Oli L1 TMGS 2025 Mango Tenor Satin  2025-01-29T22:37:14Z   \n",
       "18     -9999                      'Oli L2-BCR 858  2025-02-08T18:43:34Z   \n",
       "\n",
       "       video_id                                 video_thumbnail playlist_id  \n",
       "14  BHOxKauk_zE  https://i.ytimg.com/vi/BHOxKauk_zE/default.jpg              \n",
       "15  Yk98tlUrQwM  https://i.ytimg.com/vi/Yk98tlUrQwM/default.jpg              \n",
       "16  LvcZOHceJ-I  https://i.ytimg.com/vi/LvcZOHceJ-I/default.jpg              \n",
       "17  dKotBrEFZgA  https://i.ytimg.com/vi/dKotBrEFZgA/default.jpg              \n",
       "18  rVt1EjNZg_k  https://i.ytimg.com/vi/rVt1EjNZg_k/default.jpg              "
      ]
     },
     "execution_count": 25,
     "metadata": {},
     "output_type": "execute_result"
    }
   ],
   "source": [
    "missing_df['video_title'] = missing_df['video_title'].replace(\n",
    "    {'&#39;': \"'\", \"&quot;\": '\"', '&amp;': '&'}, regex=True)\n",
    "\n",
    "missing_df['position'] = -9999\n",
    "missing_df['playlist_id']=''\n",
    "\n",
    "missing_df = missing_df[missing_df['video_title'].str.contains('Oli')]\n",
    "\n",
    "missing_df = missing_df[['position', 'video_title', 'published_at', 'video_id',\n",
    "                         'video_thumbnail','playlist_id']]\n",
    "\n",
    "missing_df = missing_df.sort_values(['published_at', 'video_id'])\n",
    "\n",
    "missing_df = missing_df.drop_duplicates()\n",
    "\n",
    "log_df(missing_df)"
   ]
  },
  {
   "cell_type": "code",
   "execution_count": 27,
   "id": "6b87f94a",
   "metadata": {},
   "outputs": [],
   "source": [
    "missing_df.to_csv('../processed_data/missing_videos_fixed.csv', index=False)"
   ]
  },
  {
   "cell_type": "code",
   "execution_count": null,
   "id": "067d7141-265b-49db-a4d8-089014bea876",
   "metadata": {},
   "outputs": [],
   "source": []
  },
  {
   "cell_type": "code",
   "execution_count": null,
   "id": "c24d3446-6ffd-4224-ae94-14eb6eebad40",
   "metadata": {},
   "outputs": [],
   "source": []
  }
 ],
 "metadata": {
  "kernelspec": {
   "display_name": "Python 3 (ipykernel)",
   "language": "python",
   "name": "python3"
  },
  "language_info": {
   "codemirror_mode": {
    "name": "ipython",
    "version": 3
   },
   "file_extension": ".py",
   "mimetype": "text/x-python",
   "name": "python",
   "nbconvert_exporter": "python",
   "pygments_lexer": "ipython3",
   "version": "3.12.9"
  }
 },
 "nbformat": 4,
 "nbformat_minor": 5
}
