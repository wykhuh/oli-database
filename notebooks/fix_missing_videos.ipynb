{
 "cells": [
  {
   "cell_type": "code",
   "execution_count": 1,
   "id": "c0a1b288",
   "metadata": {},
   "outputs": [],
   "source": [
    "import pandas as pd"
   ]
  },
  {
   "cell_type": "code",
   "execution_count": 2,
   "id": "58b2a7e5",
   "metadata": {},
   "outputs": [],
   "source": [
    "def log_df(df, limit=5):\n",
    "    print(df.shape)\n",
    "    return df.head(limit)"
   ]
  },
  {
   "cell_type": "markdown",
   "id": "0a92065f",
   "metadata": {},
   "source": [
    "# update missing csv"
   ]
  },
  {
   "cell_type": "code",
   "execution_count": 6,
   "id": "3727b715",
   "metadata": {},
   "outputs": [
    {
     "name": "stdout",
     "output_type": "stream",
     "text": [
      "(35, 4)\n"
     ]
    },
    {
     "data": {
      "text/html": [
       "<div>\n",
       "<style scoped>\n",
       "    .dataframe tbody tr th:only-of-type {\n",
       "        vertical-align: middle;\n",
       "    }\n",
       "\n",
       "    .dataframe tbody tr th {\n",
       "        vertical-align: top;\n",
       "    }\n",
       "\n",
       "    .dataframe thead th {\n",
       "        text-align: right;\n",
       "    }\n",
       "</style>\n",
       "<table border=\"1\" class=\"dataframe\">\n",
       "  <thead>\n",
       "    <tr style=\"text-align: right;\">\n",
       "      <th></th>\n",
       "      <th>video_title</th>\n",
       "      <th>published_at</th>\n",
       "      <th>video_id</th>\n",
       "      <th>video_thumbnail</th>\n",
       "    </tr>\n",
       "  </thead>\n",
       "  <tbody>\n",
       "    <tr>\n",
       "      <th>0</th>\n",
       "      <td>&amp;quot;Hawai&amp;#39;i &amp;#39;78&amp;quot; &amp;#39;Oli Mango...</td>\n",
       "      <td>2023-08-21T23:00:57Z</td>\n",
       "      <td>mgGgRXIZY4Q</td>\n",
       "      <td>https://i.ytimg.com/vi/mgGgRXIZY4Q/default.jpg</td>\n",
       "    </tr>\n",
       "    <tr>\n",
       "      <th>1</th>\n",
       "      <td>&amp;#39;Oli L1 TMGS 2025 Mango Tenor Satin</td>\n",
       "      <td>2025-01-29T22:37:14Z</td>\n",
       "      <td>dKotBrEFZgA</td>\n",
       "      <td>https://i.ytimg.com/vi/dKotBrEFZgA/default.jpg</td>\n",
       "    </tr>\n",
       "    <tr>\n",
       "      <th>2</th>\n",
       "      <td>&amp;#39;Oli L1 BMGS 2025 Mango Baritone Satin</td>\n",
       "      <td>2025-01-29T22:35:45Z</td>\n",
       "      <td>s1aW6ipuXxM</td>\n",
       "      <td>https://i.ytimg.com/vi/s1aW6ipuXxM/default.jpg</td>\n",
       "    </tr>\n",
       "    <tr>\n",
       "      <th>3</th>\n",
       "      <td>&amp;#39;Oli Mango Baritone L2 MGB</td>\n",
       "      <td>2023-11-16T19:13:03Z</td>\n",
       "      <td>K1WS2LC0U2s</td>\n",
       "      <td>https://i.ytimg.com/vi/K1WS2LC0U2s/default.jpg</td>\n",
       "    </tr>\n",
       "    <tr>\n",
       "      <th>4</th>\n",
       "      <td>&amp;#39;Oli L1 CA 984</td>\n",
       "      <td>2025-02-10T03:16:16Z</td>\n",
       "      <td>pmVWEjyFa2U</td>\n",
       "      <td>https://i.ytimg.com/vi/pmVWEjyFa2U/default.jpg</td>\n",
       "    </tr>\n",
       "  </tbody>\n",
       "</table>\n",
       "</div>"
      ],
      "text/plain": [
       "                                         video_title          published_at  \\\n",
       "0  &quot;Hawai&#39;i &#39;78&quot; &#39;Oli Mango...  2023-08-21T23:00:57Z   \n",
       "1            &#39;Oli L1 TMGS 2025 Mango Tenor Satin  2025-01-29T22:37:14Z   \n",
       "2         &#39;Oli L1 BMGS 2025 Mango Baritone Satin  2025-01-29T22:35:45Z   \n",
       "3                     &#39;Oli Mango Baritone L2 MGB  2023-11-16T19:13:03Z   \n",
       "4                                 &#39;Oli L1 CA 984  2025-02-10T03:16:16Z   \n",
       "\n",
       "      video_id                                 video_thumbnail  \n",
       "0  mgGgRXIZY4Q  https://i.ytimg.com/vi/mgGgRXIZY4Q/default.jpg  \n",
       "1  dKotBrEFZgA  https://i.ytimg.com/vi/dKotBrEFZgA/default.jpg  \n",
       "2  s1aW6ipuXxM  https://i.ytimg.com/vi/s1aW6ipuXxM/default.jpg  \n",
       "3  K1WS2LC0U2s  https://i.ytimg.com/vi/K1WS2LC0U2s/default.jpg  \n",
       "4  pmVWEjyFa2U  https://i.ytimg.com/vi/pmVWEjyFa2U/default.jpg  "
      ]
     },
     "execution_count": 6,
     "metadata": {},
     "output_type": "execute_result"
    }
   ],
   "source": [
    "missing_df = pd.read_csv('../raw_data/missing_videos.csv')\n",
    "log_df(missing_df)"
   ]
  },
  {
   "cell_type": "code",
   "execution_count": 7,
   "id": "f140bd2f",
   "metadata": {},
   "outputs": [
    {
     "name": "stdout",
     "output_type": "stream",
     "text": [
      "(19, 7)\n"
     ]
    },
    {
     "data": {
      "text/html": [
       "<div>\n",
       "<style scoped>\n",
       "    .dataframe tbody tr th:only-of-type {\n",
       "        vertical-align: middle;\n",
       "    }\n",
       "\n",
       "    .dataframe tbody tr th {\n",
       "        vertical-align: top;\n",
       "    }\n",
       "\n",
       "    .dataframe thead th {\n",
       "        text-align: right;\n",
       "    }\n",
       "</style>\n",
       "<table border=\"1\" class=\"dataframe\">\n",
       "  <thead>\n",
       "    <tr style=\"text-align: right;\">\n",
       "      <th></th>\n",
       "      <th>position</th>\n",
       "      <th>video_title</th>\n",
       "      <th>published_at</th>\n",
       "      <th>video_id</th>\n",
       "      <th>video_thumbnail</th>\n",
       "      <th>video_url</th>\n",
       "      <th>published_date</th>\n",
       "    </tr>\n",
       "  </thead>\n",
       "  <tbody>\n",
       "    <tr>\n",
       "      <th>12</th>\n",
       "      <td>-1</td>\n",
       "      <td>'Oli Mango Tenor Prototype</td>\n",
       "      <td>2023-08-21T22:57:34Z</td>\n",
       "      <td>1__pjKICYcA</td>\n",
       "      <td>https://i.ytimg.com/vi/1__pjKICYcA/default.jpg</td>\n",
       "      <td>https://www.youtube.com/watch?v=1__pjKICYcA</td>\n",
       "      <td>2023-08-21</td>\n",
       "    </tr>\n",
       "    <tr>\n",
       "      <th>0</th>\n",
       "      <td>-1</td>\n",
       "      <td>\"Hawai'i '78\" 'Oli Mango Tenor &amp; Pono Master S...</td>\n",
       "      <td>2023-08-21T23:00:57Z</td>\n",
       "      <td>mgGgRXIZY4Q</td>\n",
       "      <td>https://i.ytimg.com/vi/mgGgRXIZY4Q/default.jpg</td>\n",
       "      <td>https://www.youtube.com/watch?v=mgGgRXIZY4Q</td>\n",
       "      <td>2023-08-21</td>\n",
       "    </tr>\n",
       "    <tr>\n",
       "      <th>7</th>\n",
       "      <td>-1</td>\n",
       "      <td>'Oli Mango Concert L2 MGC</td>\n",
       "      <td>2023-11-16T18:57:56Z</td>\n",
       "      <td>Oj_48kO9R8w</td>\n",
       "      <td>https://i.ytimg.com/vi/Oj_48kO9R8w/default.jpg</td>\n",
       "      <td>https://www.youtube.com/watch?v=Oj_48kO9R8w</td>\n",
       "      <td>2023-11-16</td>\n",
       "    </tr>\n",
       "    <tr>\n",
       "      <th>3</th>\n",
       "      <td>-1</td>\n",
       "      <td>'Oli Mango Baritone L2 MGB</td>\n",
       "      <td>2023-11-16T19:13:03Z</td>\n",
       "      <td>K1WS2LC0U2s</td>\n",
       "      <td>https://i.ytimg.com/vi/K1WS2LC0U2s/default.jpg</td>\n",
       "      <td>https://www.youtube.com/watch?v=K1WS2LC0U2s</td>\n",
       "      <td>2023-11-16</td>\n",
       "    </tr>\n",
       "    <tr>\n",
       "      <th>19</th>\n",
       "      <td>-1</td>\n",
       "      <td>Danny's Song on 'Oli Mango Baritone &amp; Tenor</td>\n",
       "      <td>2023-11-16T19:29:01Z</td>\n",
       "      <td>sMBVxO3s9KU</td>\n",
       "      <td>https://i.ytimg.com/vi/sMBVxO3s9KU/default.jpg</td>\n",
       "      <td>https://www.youtube.com/watch?v=sMBVxO3s9KU</td>\n",
       "      <td>2023-11-16</td>\n",
       "    </tr>\n",
       "  </tbody>\n",
       "</table>\n",
       "</div>"
      ],
      "text/plain": [
       "    position                                        video_title  \\\n",
       "12        -1                         'Oli Mango Tenor Prototype   \n",
       "0         -1  \"Hawai'i '78\" 'Oli Mango Tenor & Pono Master S...   \n",
       "7         -1                          'Oli Mango Concert L2 MGC   \n",
       "3         -1                         'Oli Mango Baritone L2 MGB   \n",
       "19        -1        Danny's Song on 'Oli Mango Baritone & Tenor   \n",
       "\n",
       "            published_at     video_id  \\\n",
       "12  2023-08-21T22:57:34Z  1__pjKICYcA   \n",
       "0   2023-08-21T23:00:57Z  mgGgRXIZY4Q   \n",
       "7   2023-11-16T18:57:56Z  Oj_48kO9R8w   \n",
       "3   2023-11-16T19:13:03Z  K1WS2LC0U2s   \n",
       "19  2023-11-16T19:29:01Z  sMBVxO3s9KU   \n",
       "\n",
       "                                   video_thumbnail  \\\n",
       "12  https://i.ytimg.com/vi/1__pjKICYcA/default.jpg   \n",
       "0   https://i.ytimg.com/vi/mgGgRXIZY4Q/default.jpg   \n",
       "7   https://i.ytimg.com/vi/Oj_48kO9R8w/default.jpg   \n",
       "3   https://i.ytimg.com/vi/K1WS2LC0U2s/default.jpg   \n",
       "19  https://i.ytimg.com/vi/sMBVxO3s9KU/default.jpg   \n",
       "\n",
       "                                      video_url published_date  \n",
       "12  https://www.youtube.com/watch?v=1__pjKICYcA     2023-08-21  \n",
       "0   https://www.youtube.com/watch?v=mgGgRXIZY4Q     2023-08-21  \n",
       "7   https://www.youtube.com/watch?v=Oj_48kO9R8w     2023-11-16  \n",
       "3   https://www.youtube.com/watch?v=K1WS2LC0U2s     2023-11-16  \n",
       "19  https://www.youtube.com/watch?v=sMBVxO3s9KU     2023-11-16  "
      ]
     },
     "execution_count": 7,
     "metadata": {},
     "output_type": "execute_result"
    }
   ],
   "source": [
    "missing_df['video_title'] = missing_df['video_title'].replace(\n",
    "    {'&#39;': \"'\", \"&quot;\": '\"', '&amp;': '&'}, regex=True)\n",
    "\n",
    "missing_df['published_date'] = missing_df['published_at'].replace(\n",
    "    {r'T[0-9:Z]*': ''}, regex=True)\n",
    "\n",
    "missing_df['video_url'] = 'https://www.youtube.com/watch?v=' + missing_df['video_id']\n",
    "missing_df['position'] = -1\n",
    "\n",
    "missing_df = missing_df[missing_df['video_title'].str.contains('Oli')]\n",
    "\n",
    "missing_df = missing_df[['position', 'video_title', 'published_at', 'video_id',\n",
    "                         'video_thumbnail', 'video_url', 'published_date']]\n",
    "\n",
    "missing_df = missing_df.sort_values(['published_at', 'video_id'])\n",
    "\n",
    "missing_df = missing_df.drop_duplicates()\n",
    "\n",
    "log_df(missing_df)"
   ]
  },
  {
   "cell_type": "code",
   "execution_count": null,
   "id": "6b87f94a",
   "metadata": {},
   "outputs": [],
   "source": [
    "missing_df.to_csv('../processed_data/missing_videos_fixed.csv', index=False)"
   ]
  }
 ],
 "metadata": {
  "kernelspec": {
   "display_name": "Python 3 (ipykernel)",
   "language": "python",
   "name": "python3"
  },
  "language_info": {
   "codemirror_mode": {
    "name": "ipython",
    "version": 3
   },
   "file_extension": ".py",
   "mimetype": "text/x-python",
   "name": "python",
   "nbconvert_exporter": "python",
   "pygments_lexer": "ipython3",
   "version": "3.12.9"
  }
 },
 "nbformat": 4,
 "nbformat_minor": 5
}
